{
 "cells": [
  {
   "cell_type": "code",
   "execution_count": 1,
   "metadata": {},
   "outputs": [],
   "source": [
    "import os\n",
    "import pandas as pd\n",
    "#list the files\n",
    "filelist = os.listdir('30_speakers_train') \n",
    "#read them into pandas\n",
    "train_df = pd.DataFrame(filelist)"
   ]
  },
  {
   "cell_type": "code",
   "execution_count": 2,
   "metadata": {
    "scrolled": true
   },
   "outputs": [
    {
     "data": {
      "text/html": [
       "<div>\n",
       "<style scoped>\n",
       "    .dataframe tbody tr th:only-of-type {\n",
       "        vertical-align: middle;\n",
       "    }\n",
       "\n",
       "    .dataframe tbody tr th {\n",
       "        vertical-align: top;\n",
       "    }\n",
       "\n",
       "    .dataframe thead th {\n",
       "        text-align: right;\n",
       "    }\n",
       "</style>\n",
       "<table border=\"1\" class=\"dataframe\">\n",
       "  <thead>\n",
       "    <tr style=\"text-align: right;\">\n",
       "      <th></th>\n",
       "      <th>0</th>\n",
       "    </tr>\n",
       "  </thead>\n",
       "  <tbody>\n",
       "    <tr>\n",
       "      <th>0</th>\n",
       "      <td>7278-91083-0000.flac</td>\n",
       "    </tr>\n",
       "    <tr>\n",
       "      <th>1</th>\n",
       "      <td>7278-91083-0001.flac</td>\n",
       "    </tr>\n",
       "    <tr>\n",
       "      <th>2</th>\n",
       "      <td>7278-91083-0002.flac</td>\n",
       "    </tr>\n",
       "    <tr>\n",
       "      <th>3</th>\n",
       "      <td>7278-91083-0003.flac</td>\n",
       "    </tr>\n",
       "    <tr>\n",
       "      <th>4</th>\n",
       "      <td>7302-86814-0000.flac</td>\n",
       "    </tr>\n",
       "  </tbody>\n",
       "</table>\n",
       "</div>"
      ],
      "text/plain": [
       "                      0\n",
       "0  7278-91083-0000.flac\n",
       "1  7278-91083-0001.flac\n",
       "2  7278-91083-0002.flac\n",
       "3  7278-91083-0003.flac\n",
       "4  7302-86814-0000.flac"
      ]
     },
     "execution_count": 2,
     "metadata": {},
     "output_type": "execute_result"
    }
   ],
   "source": [
    "train_df.head()"
   ]
  },
  {
   "cell_type": "code",
   "execution_count": null,
   "metadata": {},
   "outputs": [],
   "source": []
  },
  {
   "cell_type": "code",
   "execution_count": 3,
   "metadata": {},
   "outputs": [],
   "source": [
    "# Renaming the column name to file\n",
    "train_df = train_df.rename(columns={0:'file'})"
   ]
  },
  {
   "cell_type": "code",
   "execution_count": 4,
   "metadata": {},
   "outputs": [],
   "source": [
    "train_df = train_df.sample(frac=1).reset_index(drop=True)"
   ]
  },
  {
   "cell_type": "code",
   "execution_count": 5,
   "metadata": {},
   "outputs": [
    {
     "data": {
      "text/html": [
       "<div>\n",
       "<style scoped>\n",
       "    .dataframe tbody tr th:only-of-type {\n",
       "        vertical-align: middle;\n",
       "    }\n",
       "\n",
       "    .dataframe tbody tr th {\n",
       "        vertical-align: top;\n",
       "    }\n",
       "\n",
       "    .dataframe thead th {\n",
       "        text-align: right;\n",
       "    }\n",
       "</style>\n",
       "<table border=\"1\" class=\"dataframe\">\n",
       "  <thead>\n",
       "    <tr style=\"text-align: right;\">\n",
       "      <th></th>\n",
       "      <th>file</th>\n",
       "    </tr>\n",
       "  </thead>\n",
       "  <tbody>\n",
       "    <tr>\n",
       "      <th>0</th>\n",
       "      <td>7302-86814-0000.flac</td>\n",
       "    </tr>\n",
       "    <tr>\n",
       "      <th>1</th>\n",
       "      <td>8014-112586-0001.flac</td>\n",
       "    </tr>\n",
       "    <tr>\n",
       "      <th>2</th>\n",
       "      <td>7302-86814-0003.flac</td>\n",
       "    </tr>\n",
       "    <tr>\n",
       "      <th>3</th>\n",
       "      <td>8108-274318-0002.flac</td>\n",
       "    </tr>\n",
       "    <tr>\n",
       "      <th>4</th>\n",
       "      <td>7859-102518-0001.flac</td>\n",
       "    </tr>\n",
       "    <tr>\n",
       "      <th>...</th>\n",
       "      <td>...</td>\n",
       "    </tr>\n",
       "    <tr>\n",
       "      <th>115</th>\n",
       "      <td>8123-275193-0000.flac</td>\n",
       "    </tr>\n",
       "    <tr>\n",
       "      <th>116</th>\n",
       "      <td>8425-246962-0003.flac</td>\n",
       "    </tr>\n",
       "    <tr>\n",
       "      <th>117</th>\n",
       "      <td>7794-295947-0002.flac</td>\n",
       "    </tr>\n",
       "    <tr>\n",
       "      <th>118</th>\n",
       "      <td>8098-275181-0001.flac</td>\n",
       "    </tr>\n",
       "    <tr>\n",
       "      <th>119</th>\n",
       "      <td>8088-284756-0003.flac</td>\n",
       "    </tr>\n",
       "  </tbody>\n",
       "</table>\n",
       "<p>120 rows × 1 columns</p>\n",
       "</div>"
      ],
      "text/plain": [
       "                      file\n",
       "0     7302-86814-0000.flac\n",
       "1    8014-112586-0001.flac\n",
       "2     7302-86814-0003.flac\n",
       "3    8108-274318-0002.flac\n",
       "4    7859-102518-0001.flac\n",
       "..                     ...\n",
       "115  8123-275193-0000.flac\n",
       "116  8425-246962-0003.flac\n",
       "117  7794-295947-0002.flac\n",
       "118  8098-275181-0001.flac\n",
       "119  8088-284756-0003.flac\n",
       "\n",
       "[120 rows x 1 columns]"
      ]
     },
     "execution_count": 5,
     "metadata": {},
     "output_type": "execute_result"
    }
   ],
   "source": [
    "train_df"
   ]
  },
  {
   "cell_type": "code",
   "execution_count": 6,
   "metadata": {},
   "outputs": [],
   "source": [
    "# We create an empty list where we will append all the speakers ids for each row of our dataframe by slicing the file name since we know the id is the first numbers before the hash\n",
    "speaker = []\n",
    "for i in range(0, len(train_df)):\n",
    "    speaker.append(train_df['file'][i].split('-')[0])"
   ]
  },
  {
   "cell_type": "code",
   "execution_count": 7,
   "metadata": {},
   "outputs": [],
   "source": [
    "train_df['speaker'] = speaker"
   ]
  },
  {
   "cell_type": "code",
   "execution_count": 8,
   "metadata": {},
   "outputs": [
    {
     "data": {
      "text/html": [
       "<div>\n",
       "<style scoped>\n",
       "    .dataframe tbody tr th:only-of-type {\n",
       "        vertical-align: middle;\n",
       "    }\n",
       "\n",
       "    .dataframe tbody tr th {\n",
       "        vertical-align: top;\n",
       "    }\n",
       "\n",
       "    .dataframe thead th {\n",
       "        text-align: right;\n",
       "    }\n",
       "</style>\n",
       "<table border=\"1\" class=\"dataframe\">\n",
       "  <thead>\n",
       "    <tr style=\"text-align: right;\">\n",
       "      <th></th>\n",
       "      <th>file</th>\n",
       "      <th>speaker</th>\n",
       "    </tr>\n",
       "  </thead>\n",
       "  <tbody>\n",
       "    <tr>\n",
       "      <th>0</th>\n",
       "      <td>7302-86814-0000.flac</td>\n",
       "      <td>7302</td>\n",
       "    </tr>\n",
       "    <tr>\n",
       "      <th>1</th>\n",
       "      <td>8014-112586-0001.flac</td>\n",
       "      <td>8014</td>\n",
       "    </tr>\n",
       "    <tr>\n",
       "      <th>2</th>\n",
       "      <td>7302-86814-0003.flac</td>\n",
       "      <td>7302</td>\n",
       "    </tr>\n",
       "    <tr>\n",
       "      <th>3</th>\n",
       "      <td>8108-274318-0002.flac</td>\n",
       "      <td>8108</td>\n",
       "    </tr>\n",
       "    <tr>\n",
       "      <th>4</th>\n",
       "      <td>7859-102518-0001.flac</td>\n",
       "      <td>7859</td>\n",
       "    </tr>\n",
       "  </tbody>\n",
       "</table>\n",
       "</div>"
      ],
      "text/plain": [
       "                    file speaker\n",
       "0   7302-86814-0000.flac    7302\n",
       "1  8014-112586-0001.flac    8014\n",
       "2   7302-86814-0003.flac    7302\n",
       "3  8108-274318-0002.flac    8108\n",
       "4  7859-102518-0001.flac    7859"
      ]
     },
     "execution_count": 8,
     "metadata": {},
     "output_type": "execute_result"
    }
   ],
   "source": [
    "train_df.head()"
   ]
  },
  {
   "cell_type": "code",
   "execution_count": 9,
   "metadata": {},
   "outputs": [],
   "source": [
    "filelist = os.listdir('30_speakers_val') \n",
    "#read them into pandas\n",
    "val_df = pd.DataFrame(filelist)"
   ]
  },
  {
   "cell_type": "code",
   "execution_count": 10,
   "metadata": {},
   "outputs": [
    {
     "data": {
      "text/html": [
       "<div>\n",
       "<style scoped>\n",
       "    .dataframe tbody tr th:only-of-type {\n",
       "        vertical-align: middle;\n",
       "    }\n",
       "\n",
       "    .dataframe tbody tr th {\n",
       "        vertical-align: top;\n",
       "    }\n",
       "\n",
       "    .dataframe thead th {\n",
       "        text-align: right;\n",
       "    }\n",
       "</style>\n",
       "<table border=\"1\" class=\"dataframe\">\n",
       "  <thead>\n",
       "    <tr style=\"text-align: right;\">\n",
       "      <th></th>\n",
       "      <th>0</th>\n",
       "    </tr>\n",
       "  </thead>\n",
       "  <tbody>\n",
       "    <tr>\n",
       "      <th>0</th>\n",
       "      <td>7278-91083-0008.flac</td>\n",
       "    </tr>\n",
       "    <tr>\n",
       "      <th>1</th>\n",
       "      <td>7278-91083-0009.flac</td>\n",
       "    </tr>\n",
       "    <tr>\n",
       "      <th>2</th>\n",
       "      <td>7278-91083-0010.flac</td>\n",
       "    </tr>\n",
       "    <tr>\n",
       "      <th>3</th>\n",
       "      <td>7302-86814-0007.flac</td>\n",
       "    </tr>\n",
       "    <tr>\n",
       "      <th>4</th>\n",
       "      <td>7302-86814-0008.flac</td>\n",
       "    </tr>\n",
       "    <tr>\n",
       "      <th>...</th>\n",
       "      <td>...</td>\n",
       "    </tr>\n",
       "    <tr>\n",
       "      <th>85</th>\n",
       "      <td>8465-246940-0008.flac</td>\n",
       "    </tr>\n",
       "    <tr>\n",
       "      <th>86</th>\n",
       "      <td>8465-246940-0009.flac</td>\n",
       "    </tr>\n",
       "    <tr>\n",
       "      <th>87</th>\n",
       "      <td>8468-286673-0007.flac</td>\n",
       "    </tr>\n",
       "    <tr>\n",
       "      <th>88</th>\n",
       "      <td>8468-286673-0008.flac</td>\n",
       "    </tr>\n",
       "    <tr>\n",
       "      <th>89</th>\n",
       "      <td>8468-286673-0009.flac</td>\n",
       "    </tr>\n",
       "  </tbody>\n",
       "</table>\n",
       "<p>90 rows × 1 columns</p>\n",
       "</div>"
      ],
      "text/plain": [
       "                        0\n",
       "0    7278-91083-0008.flac\n",
       "1    7278-91083-0009.flac\n",
       "2    7278-91083-0010.flac\n",
       "3    7302-86814-0007.flac\n",
       "4    7302-86814-0008.flac\n",
       "..                    ...\n",
       "85  8465-246940-0008.flac\n",
       "86  8465-246940-0009.flac\n",
       "87  8468-286673-0007.flac\n",
       "88  8468-286673-0008.flac\n",
       "89  8468-286673-0009.flac\n",
       "\n",
       "[90 rows x 1 columns]"
      ]
     },
     "execution_count": 10,
     "metadata": {},
     "output_type": "execute_result"
    }
   ],
   "source": [
    "val_df"
   ]
  },
  {
   "cell_type": "code",
   "execution_count": 11,
   "metadata": {},
   "outputs": [],
   "source": [
    "val_df = val_df.rename(columns={0:'file'})"
   ]
  },
  {
   "cell_type": "code",
   "execution_count": 12,
   "metadata": {},
   "outputs": [],
   "source": [
    "val_df = val_df.sample(frac=1).reset_index(drop=True)"
   ]
  },
  {
   "cell_type": "code",
   "execution_count": 13,
   "metadata": {},
   "outputs": [],
   "source": [
    "speaker = []\n",
    "for i in range(0, len(val_df)):\n",
    "    speaker.append(val_df['file'][i].split('-')[0])"
   ]
  },
  {
   "cell_type": "code",
   "execution_count": 14,
   "metadata": {},
   "outputs": [],
   "source": [
    "val_df['speaker'] = speaker"
   ]
  },
  {
   "cell_type": "code",
   "execution_count": 15,
   "metadata": {},
   "outputs": [
    {
     "data": {
      "text/html": [
       "<div>\n",
       "<style scoped>\n",
       "    .dataframe tbody tr th:only-of-type {\n",
       "        vertical-align: middle;\n",
       "    }\n",
       "\n",
       "    .dataframe tbody tr th {\n",
       "        vertical-align: top;\n",
       "    }\n",
       "\n",
       "    .dataframe thead th {\n",
       "        text-align: right;\n",
       "    }\n",
       "</style>\n",
       "<table border=\"1\" class=\"dataframe\">\n",
       "  <thead>\n",
       "    <tr style=\"text-align: right;\">\n",
       "      <th></th>\n",
       "      <th>file</th>\n",
       "      <th>speaker</th>\n",
       "    </tr>\n",
       "  </thead>\n",
       "  <tbody>\n",
       "    <tr>\n",
       "      <th>0</th>\n",
       "      <td>8088-284756-0009.flac</td>\n",
       "      <td>8088</td>\n",
       "    </tr>\n",
       "    <tr>\n",
       "      <th>1</th>\n",
       "      <td>7312-92432-0009.flac</td>\n",
       "      <td>7312</td>\n",
       "    </tr>\n",
       "    <tr>\n",
       "      <th>2</th>\n",
       "      <td>8238-274553-0009.flac</td>\n",
       "      <td>8238</td>\n",
       "    </tr>\n",
       "    <tr>\n",
       "      <th>3</th>\n",
       "      <td>8468-286673-0007.flac</td>\n",
       "      <td>8468</td>\n",
       "    </tr>\n",
       "    <tr>\n",
       "      <th>4</th>\n",
       "      <td>8014-112586-0007.flac</td>\n",
       "      <td>8014</td>\n",
       "    </tr>\n",
       "    <tr>\n",
       "      <th>...</th>\n",
       "      <td>...</td>\n",
       "      <td>...</td>\n",
       "    </tr>\n",
       "    <tr>\n",
       "      <th>85</th>\n",
       "      <td>7635-105409-0009.flac</td>\n",
       "      <td>7635</td>\n",
       "    </tr>\n",
       "    <tr>\n",
       "      <th>86</th>\n",
       "      <td>7402-59171-0009.flac</td>\n",
       "      <td>7402</td>\n",
       "    </tr>\n",
       "    <tr>\n",
       "      <th>87</th>\n",
       "      <td>7859-102518-0009.flac</td>\n",
       "      <td>7859</td>\n",
       "    </tr>\n",
       "    <tr>\n",
       "      <th>88</th>\n",
       "      <td>7511-102419-0009.flac</td>\n",
       "      <td>7511</td>\n",
       "    </tr>\n",
       "    <tr>\n",
       "      <th>89</th>\n",
       "      <td>7517-100429-0008.flac</td>\n",
       "      <td>7517</td>\n",
       "    </tr>\n",
       "  </tbody>\n",
       "</table>\n",
       "<p>90 rows × 2 columns</p>\n",
       "</div>"
      ],
      "text/plain": [
       "                     file speaker\n",
       "0   8088-284756-0009.flac    8088\n",
       "1    7312-92432-0009.flac    7312\n",
       "2   8238-274553-0009.flac    8238\n",
       "3   8468-286673-0007.flac    8468\n",
       "4   8014-112586-0007.flac    8014\n",
       "..                    ...     ...\n",
       "85  7635-105409-0009.flac    7635\n",
       "86   7402-59171-0009.flac    7402\n",
       "87  7859-102518-0009.flac    7859\n",
       "88  7511-102419-0009.flac    7511\n",
       "89  7517-100429-0008.flac    7517\n",
       "\n",
       "[90 rows x 2 columns]"
      ]
     },
     "execution_count": 15,
     "metadata": {},
     "output_type": "execute_result"
    }
   ],
   "source": [
    "val_df"
   ]
  },
  {
   "cell_type": "code",
   "execution_count": 16,
   "metadata": {},
   "outputs": [],
   "source": [
    "filelist = os.listdir('30_speakers_test') \n",
    "#read them into pandas\n",
    "test_df = pd.DataFrame(filelist)"
   ]
  },
  {
   "cell_type": "code",
   "execution_count": 17,
   "metadata": {},
   "outputs": [],
   "source": [
    "test_df = test_df.rename(columns={0:'file'})"
   ]
  },
  {
   "cell_type": "code",
   "execution_count": 18,
   "metadata": {},
   "outputs": [],
   "source": [
    "test_df = test_df.sample(frac=1).reset_index(drop=True)"
   ]
  },
  {
   "cell_type": "code",
   "execution_count": 19,
   "metadata": {},
   "outputs": [],
   "source": [
    "speaker = []\n",
    "for i in range(0, len(test_df)):\n",
    "    speaker.append(test_df['file'][i].split('-')[0])"
   ]
  },
  {
   "cell_type": "code",
   "execution_count": 20,
   "metadata": {},
   "outputs": [],
   "source": [
    "test_df['speaker'] = speaker"
   ]
  },
  {
   "cell_type": "code",
   "execution_count": 21,
   "metadata": {},
   "outputs": [
    {
     "data": {
      "text/html": [
       "<div>\n",
       "<style scoped>\n",
       "    .dataframe tbody tr th:only-of-type {\n",
       "        vertical-align: middle;\n",
       "    }\n",
       "\n",
       "    .dataframe tbody tr th {\n",
       "        vertical-align: top;\n",
       "    }\n",
       "\n",
       "    .dataframe thead th {\n",
       "        text-align: right;\n",
       "    }\n",
       "</style>\n",
       "<table border=\"1\" class=\"dataframe\">\n",
       "  <thead>\n",
       "    <tr style=\"text-align: right;\">\n",
       "      <th></th>\n",
       "      <th>file</th>\n",
       "      <th>speaker</th>\n",
       "    </tr>\n",
       "  </thead>\n",
       "  <tbody>\n",
       "    <tr>\n",
       "      <th>0</th>\n",
       "      <td>7312-92432-0004.flac</td>\n",
       "      <td>7312</td>\n",
       "    </tr>\n",
       "    <tr>\n",
       "      <th>1</th>\n",
       "      <td>8014-112586-0006.flac</td>\n",
       "      <td>8014</td>\n",
       "    </tr>\n",
       "    <tr>\n",
       "      <th>2</th>\n",
       "      <td>8088-284756-0005.flac</td>\n",
       "      <td>8088</td>\n",
       "    </tr>\n",
       "    <tr>\n",
       "      <th>3</th>\n",
       "      <td>8051-118101-0004.flac</td>\n",
       "      <td>8051</td>\n",
       "    </tr>\n",
       "    <tr>\n",
       "      <th>4</th>\n",
       "      <td>7635-105409-0005.flac</td>\n",
       "      <td>7635</td>\n",
       "    </tr>\n",
       "    <tr>\n",
       "      <th>...</th>\n",
       "      <td>...</td>\n",
       "      <td>...</td>\n",
       "    </tr>\n",
       "    <tr>\n",
       "      <th>85</th>\n",
       "      <td>8123-275193-0004.flac</td>\n",
       "      <td>8123</td>\n",
       "    </tr>\n",
       "    <tr>\n",
       "      <th>86</th>\n",
       "      <td>7800-283478-0004.flac</td>\n",
       "      <td>7800</td>\n",
       "    </tr>\n",
       "    <tr>\n",
       "      <th>87</th>\n",
       "      <td>8468-286673-0005.flac</td>\n",
       "      <td>8468</td>\n",
       "    </tr>\n",
       "    <tr>\n",
       "      <th>88</th>\n",
       "      <td>8238-274553-0005.flac</td>\n",
       "      <td>8238</td>\n",
       "    </tr>\n",
       "    <tr>\n",
       "      <th>89</th>\n",
       "      <td>8468-286673-0006.flac</td>\n",
       "      <td>8468</td>\n",
       "    </tr>\n",
       "  </tbody>\n",
       "</table>\n",
       "<p>90 rows × 2 columns</p>\n",
       "</div>"
      ],
      "text/plain": [
       "                     file speaker\n",
       "0    7312-92432-0004.flac    7312\n",
       "1   8014-112586-0006.flac    8014\n",
       "2   8088-284756-0005.flac    8088\n",
       "3   8051-118101-0004.flac    8051\n",
       "4   7635-105409-0005.flac    7635\n",
       "..                    ...     ...\n",
       "85  8123-275193-0004.flac    8123\n",
       "86  7800-283478-0004.flac    7800\n",
       "87  8468-286673-0005.flac    8468\n",
       "88  8238-274553-0005.flac    8238\n",
       "89  8468-286673-0006.flac    8468\n",
       "\n",
       "[90 rows x 2 columns]"
      ]
     },
     "execution_count": 21,
     "metadata": {},
     "output_type": "execute_result"
    }
   ],
   "source": [
    "test_df"
   ]
  },
  {
   "cell_type": "code",
   "execution_count": 22,
   "metadata": {},
   "outputs": [
    {
     "data": {
      "text/html": [
       "<div>\n",
       "<style scoped>\n",
       "    .dataframe tbody tr th:only-of-type {\n",
       "        vertical-align: middle;\n",
       "    }\n",
       "\n",
       "    .dataframe tbody tr th {\n",
       "        vertical-align: top;\n",
       "    }\n",
       "\n",
       "    .dataframe thead th {\n",
       "        text-align: right;\n",
       "    }\n",
       "</style>\n",
       "<table border=\"1\" class=\"dataframe\">\n",
       "  <thead>\n",
       "    <tr style=\"text-align: right;\">\n",
       "      <th></th>\n",
       "      <th>file</th>\n",
       "      <th>speaker</th>\n",
       "    </tr>\n",
       "  </thead>\n",
       "  <tbody>\n",
       "    <tr>\n",
       "      <th>0</th>\n",
       "      <td>7302-86814-0000.flac</td>\n",
       "      <td>7302</td>\n",
       "    </tr>\n",
       "    <tr>\n",
       "      <th>1</th>\n",
       "      <td>8014-112586-0001.flac</td>\n",
       "      <td>8014</td>\n",
       "    </tr>\n",
       "    <tr>\n",
       "      <th>2</th>\n",
       "      <td>7302-86814-0003.flac</td>\n",
       "      <td>7302</td>\n",
       "    </tr>\n",
       "    <tr>\n",
       "      <th>3</th>\n",
       "      <td>8108-274318-0002.flac</td>\n",
       "      <td>8108</td>\n",
       "    </tr>\n",
       "    <tr>\n",
       "      <th>4</th>\n",
       "      <td>7859-102518-0001.flac</td>\n",
       "      <td>7859</td>\n",
       "    </tr>\n",
       "    <tr>\n",
       "      <th>...</th>\n",
       "      <td>...</td>\n",
       "      <td>...</td>\n",
       "    </tr>\n",
       "    <tr>\n",
       "      <th>115</th>\n",
       "      <td>8123-275193-0000.flac</td>\n",
       "      <td>8123</td>\n",
       "    </tr>\n",
       "    <tr>\n",
       "      <th>116</th>\n",
       "      <td>8425-246962-0003.flac</td>\n",
       "      <td>8425</td>\n",
       "    </tr>\n",
       "    <tr>\n",
       "      <th>117</th>\n",
       "      <td>7794-295947-0002.flac</td>\n",
       "      <td>7794</td>\n",
       "    </tr>\n",
       "    <tr>\n",
       "      <th>118</th>\n",
       "      <td>8098-275181-0001.flac</td>\n",
       "      <td>8098</td>\n",
       "    </tr>\n",
       "    <tr>\n",
       "      <th>119</th>\n",
       "      <td>8088-284756-0003.flac</td>\n",
       "      <td>8088</td>\n",
       "    </tr>\n",
       "  </tbody>\n",
       "</table>\n",
       "<p>120 rows × 2 columns</p>\n",
       "</div>"
      ],
      "text/plain": [
       "                      file speaker\n",
       "0     7302-86814-0000.flac    7302\n",
       "1    8014-112586-0001.flac    8014\n",
       "2     7302-86814-0003.flac    7302\n",
       "3    8108-274318-0002.flac    8108\n",
       "4    7859-102518-0001.flac    7859\n",
       "..                     ...     ...\n",
       "115  8123-275193-0000.flac    8123\n",
       "116  8425-246962-0003.flac    8425\n",
       "117  7794-295947-0002.flac    7794\n",
       "118  8098-275181-0001.flac    8098\n",
       "119  8088-284756-0003.flac    8088\n",
       "\n",
       "[120 rows x 2 columns]"
      ]
     },
     "execution_count": 22,
     "metadata": {},
     "output_type": "execute_result"
    }
   ],
   "source": [
    "train_df"
   ]
  },
  {
   "cell_type": "code",
   "execution_count": 23,
   "metadata": {},
   "outputs": [
    {
     "data": {
      "text/html": [
       "<div>\n",
       "<style scoped>\n",
       "    .dataframe tbody tr th:only-of-type {\n",
       "        vertical-align: middle;\n",
       "    }\n",
       "\n",
       "    .dataframe tbody tr th {\n",
       "        vertical-align: top;\n",
       "    }\n",
       "\n",
       "    .dataframe thead th {\n",
       "        text-align: right;\n",
       "    }\n",
       "</style>\n",
       "<table border=\"1\" class=\"dataframe\">\n",
       "  <thead>\n",
       "    <tr style=\"text-align: right;\">\n",
       "      <th></th>\n",
       "      <th>file</th>\n",
       "      <th>speaker</th>\n",
       "    </tr>\n",
       "  </thead>\n",
       "  <tbody>\n",
       "    <tr>\n",
       "      <th>0</th>\n",
       "      <td>7312-92432-0004.flac</td>\n",
       "      <td>7312</td>\n",
       "    </tr>\n",
       "    <tr>\n",
       "      <th>1</th>\n",
       "      <td>8014-112586-0006.flac</td>\n",
       "      <td>8014</td>\n",
       "    </tr>\n",
       "    <tr>\n",
       "      <th>2</th>\n",
       "      <td>8088-284756-0005.flac</td>\n",
       "      <td>8088</td>\n",
       "    </tr>\n",
       "    <tr>\n",
       "      <th>3</th>\n",
       "      <td>8051-118101-0004.flac</td>\n",
       "      <td>8051</td>\n",
       "    </tr>\n",
       "    <tr>\n",
       "      <th>4</th>\n",
       "      <td>7635-105409-0005.flac</td>\n",
       "      <td>7635</td>\n",
       "    </tr>\n",
       "  </tbody>\n",
       "</table>\n",
       "</div>"
      ],
      "text/plain": [
       "                    file speaker\n",
       "0   7312-92432-0004.flac    7312\n",
       "1  8014-112586-0006.flac    8014\n",
       "2  8088-284756-0005.flac    8088\n",
       "3  8051-118101-0004.flac    8051\n",
       "4  7635-105409-0005.flac    7635"
      ]
     },
     "execution_count": 23,
     "metadata": {},
     "output_type": "execute_result"
    }
   ],
   "source": [
    "test_df.head()"
   ]
  },
  {
   "cell_type": "code",
   "execution_count": 24,
   "metadata": {},
   "outputs": [
    {
     "data": {
      "text/html": [
       "<div>\n",
       "<style scoped>\n",
       "    .dataframe tbody tr th:only-of-type {\n",
       "        vertical-align: middle;\n",
       "    }\n",
       "\n",
       "    .dataframe tbody tr th {\n",
       "        vertical-align: top;\n",
       "    }\n",
       "\n",
       "    .dataframe thead th {\n",
       "        text-align: right;\n",
       "    }\n",
       "</style>\n",
       "<table border=\"1\" class=\"dataframe\">\n",
       "  <thead>\n",
       "    <tr style=\"text-align: right;\">\n",
       "      <th></th>\n",
       "      <th>file</th>\n",
       "      <th>speaker</th>\n",
       "    </tr>\n",
       "  </thead>\n",
       "  <tbody>\n",
       "    <tr>\n",
       "      <th>0</th>\n",
       "      <td>8088-284756-0009.flac</td>\n",
       "      <td>8088</td>\n",
       "    </tr>\n",
       "    <tr>\n",
       "      <th>1</th>\n",
       "      <td>7312-92432-0009.flac</td>\n",
       "      <td>7312</td>\n",
       "    </tr>\n",
       "    <tr>\n",
       "      <th>2</th>\n",
       "      <td>8238-274553-0009.flac</td>\n",
       "      <td>8238</td>\n",
       "    </tr>\n",
       "    <tr>\n",
       "      <th>3</th>\n",
       "      <td>8468-286673-0007.flac</td>\n",
       "      <td>8468</td>\n",
       "    </tr>\n",
       "    <tr>\n",
       "      <th>4</th>\n",
       "      <td>8014-112586-0007.flac</td>\n",
       "      <td>8014</td>\n",
       "    </tr>\n",
       "  </tbody>\n",
       "</table>\n",
       "</div>"
      ],
      "text/plain": [
       "                    file speaker\n",
       "0  8088-284756-0009.flac    8088\n",
       "1   7312-92432-0009.flac    7312\n",
       "2  8238-274553-0009.flac    8238\n",
       "3  8468-286673-0007.flac    8468\n",
       "4  8014-112586-0007.flac    8014"
      ]
     },
     "execution_count": 24,
     "metadata": {},
     "output_type": "execute_result"
    }
   ],
   "source": [
    "val_df.head()"
   ]
  },
  {
   "cell_type": "code",
   "execution_count": 25,
   "metadata": {},
   "outputs": [],
   "source": [
    "import librosa\n",
    "import numpy as np"
   ]
  },
  {
   "cell_type": "code",
   "execution_count": 26,
   "metadata": {},
   "outputs": [],
   "source": [
    "import glob"
   ]
  },
  {
   "cell_type": "code",
   "execution_count": 27,
   "metadata": {},
   "outputs": [],
   "source": [
    "import random"
   ]
  },
  {
   "cell_type": "code",
   "execution_count": 28,
   "metadata": {},
   "outputs": [],
   "source": [
    "import librosa.display"
   ]
  },
  {
   "cell_type": "code",
   "execution_count": 29,
   "metadata": {},
   "outputs": [],
   "source": [
    "# Although this function was modified and many parameteres were explored with, most of it\n",
    "# came from Source 8 (sources in the READ.ME)\n",
    "\n",
    "def extract_features(files):\n",
    "    \n",
    "    # Sets the name to be the path to where the file is in my computer\n",
    "    file_name = os.path.join(os.path.abspath('30_speakers_train')+'/'+str(files.file))\n",
    "    print(file_name)\n",
    "\n",
    "    # Loads the audio file as a floating point time series and assigns the default sample rate\n",
    "    # Sample rate is set to 22050 by default\n",
    "    X, sample_rate = librosa.load(file_name, res_type='kaiser_fast') \n",
    "\n",
    "    # Generate Mel-frequency cepstral coefficients (MFCCs) from a time series \n",
    "    mfccs = np.mean(librosa.feature.mfcc(y=X, sr=sample_rate, n_mfcc=40).T,axis=0)\n",
    "\n",
    "    # Generates a Short-time Fourier transform (STFT) to use in the chroma_stft\n",
    "    stft = np.abs(librosa.stft(X))\n",
    "\n",
    "    # Computes a chromagram from a waveform or power spectrogram.\n",
    "    chroma = np.mean(librosa.feature.chroma_stft(S=stft, sr=sample_rate).T,axis=0)\n",
    "\n",
    "    # Computes a mel-scaled spectrogram.\n",
    "    mel = np.mean(librosa.feature.melspectrogram(X, sr=sample_rate).T,axis=0)\n",
    "\n",
    "    # Computes spectral contrast\n",
    "    contrast = np.mean(librosa.feature.spectral_contrast(S=stft, sr=sample_rate).T,axis=0)\n",
    "\n",
    "    # Computes the tonal centroid features (tonnetz)\n",
    "    tonnetz = np.mean(librosa.feature.tonnetz(y=librosa.effects.harmonic(X),\n",
    "    sr=sample_rate).T,axis=0)\n",
    "\n",
    "    return mfccs, chroma, mel, contrast, tonnetz"
   ]
  },
  {
   "cell_type": "code",
   "execution_count": 30,
   "metadata": {},
   "outputs": [
    {
     "name": "stdout",
     "output_type": "stream",
     "text": [
      "C:\\Users\\ofk58\\bitirme\\deep-learning\\30-voice\\30_speakers_train/7302-86814-0000.flac\n",
      "C:\\Users\\ofk58\\bitirme\\deep-learning\\30-voice\\30_speakers_train/8014-112586-0001.flac\n",
      "C:\\Users\\ofk58\\bitirme\\deep-learning\\30-voice\\30_speakers_train/7302-86814-0003.flac\n",
      "C:\\Users\\ofk58\\bitirme\\deep-learning\\30-voice\\30_speakers_train/8108-274318-0002.flac\n",
      "C:\\Users\\ofk58\\bitirme\\deep-learning\\30-voice\\30_speakers_train/7859-102518-0001.flac\n",
      "C:\\Users\\ofk58\\bitirme\\deep-learning\\30-voice\\30_speakers_train/7278-91083-0001.flac\n",
      "C:\\Users\\ofk58\\bitirme\\deep-learning\\30-voice\\30_speakers_train/8095-274345-0000.flac\n",
      "C:\\Users\\ofk58\\bitirme\\deep-learning\\30-voice\\30_speakers_train/8425-246962-0001.flac\n",
      "C:\\Users\\ofk58\\bitirme\\deep-learning\\30-voice\\30_speakers_train/8063-274112-0000.flac\n",
      "C:\\Users\\ofk58\\bitirme\\deep-learning\\30-voice\\30_speakers_train/8226-274369-0002.flac\n",
      "C:\\Users\\ofk58\\bitirme\\deep-learning\\30-voice\\30_speakers_train/8238-274553-0002.flac\n",
      "C:\\Users\\ofk58\\bitirme\\deep-learning\\30-voice\\30_speakers_train/7312-92432-0002.flac\n",
      "C:\\Users\\ofk58\\bitirme\\deep-learning\\30-voice\\30_speakers_train/8098-275181-0002.flac\n",
      "C:\\Users\\ofk58\\bitirme\\deep-learning\\30-voice\\30_speakers_train/8312-279790-0003.flac\n",
      "C:\\Users\\ofk58\\bitirme\\deep-learning\\30-voice\\30_speakers_train/7635-105409-0000.flac\n",
      "C:\\Users\\ofk58\\bitirme\\deep-learning\\30-voice\\30_speakers_train/7505-83618-0001.flac\n",
      "C:\\Users\\ofk58\\bitirme\\deep-learning\\30-voice\\30_speakers_train/8468-286673-0003.flac\n",
      "C:\\Users\\ofk58\\bitirme\\deep-learning\\30-voice\\30_speakers_train/7780-274562-0000.flac\n",
      "C:\\Users\\ofk58\\bitirme\\deep-learning\\30-voice\\30_speakers_train/8051-118101-0003.flac\n",
      "C:\\Users\\ofk58\\bitirme\\deep-learning\\30-voice\\30_speakers_train/7635-105409-0002.flac\n",
      "C:\\Users\\ofk58\\bitirme\\deep-learning\\30-voice\\30_speakers_train/8324-286681-0000.flac\n",
      "C:\\Users\\ofk58\\bitirme\\deep-learning\\30-voice\\30_speakers_train/8419-286667-0000.flac\n",
      "C:\\Users\\ofk58\\bitirme\\deep-learning\\30-voice\\30_speakers_train/8108-274318-0000.flac\n",
      "C:\\Users\\ofk58\\bitirme\\deep-learning\\30-voice\\30_speakers_train/7312-92432-0003.flac\n",
      "C:\\Users\\ofk58\\bitirme\\deep-learning\\30-voice\\30_speakers_train/7517-100429-0003.flac\n",
      "C:\\Users\\ofk58\\bitirme\\deep-learning\\30-voice\\30_speakers_train/8468-286673-0000.flac\n",
      "C:\\Users\\ofk58\\bitirme\\deep-learning\\30-voice\\30_speakers_train/7800-283478-0000.flac\n",
      "C:\\Users\\ofk58\\bitirme\\deep-learning\\30-voice\\30_speakers_train/8063-274112-0002.flac\n",
      "C:\\Users\\ofk58\\bitirme\\deep-learning\\30-voice\\30_speakers_train/7511-102419-0002.flac\n",
      "C:\\Users\\ofk58\\bitirme\\deep-learning\\30-voice\\30_speakers_train/8465-246940-0000.flac\n",
      "C:\\Users\\ofk58\\bitirme\\deep-learning\\30-voice\\30_speakers_train/7312-92432-0001.flac\n",
      "C:\\Users\\ofk58\\bitirme\\deep-learning\\30-voice\\30_speakers_train/8226-274369-0001.flac\n",
      "C:\\Users\\ofk58\\bitirme\\deep-learning\\30-voice\\30_speakers_train/8238-274553-0001.flac\n",
      "C:\\Users\\ofk58\\bitirme\\deep-learning\\30-voice\\30_speakers_train/7635-105409-0001.flac\n",
      "C:\\Users\\ofk58\\bitirme\\deep-learning\\30-voice\\30_speakers_train/7780-274562-0001.flac\n",
      "C:\\Users\\ofk58\\bitirme\\deep-learning\\30-voice\\30_speakers_train/8238-274553-0000.flac\n",
      "C:\\Users\\ofk58\\bitirme\\deep-learning\\30-voice\\30_speakers_train/8324-286681-0002.flac\n",
      "C:\\Users\\ofk58\\bitirme\\deep-learning\\30-voice\\30_speakers_train/7402-59171-0001.flac\n",
      "C:\\Users\\ofk58\\bitirme\\deep-learning\\30-voice\\30_speakers_train/7794-295947-0003.flac\n",
      "C:\\Users\\ofk58\\bitirme\\deep-learning\\30-voice\\30_speakers_train/7505-83618-0002.flac\n",
      "C:\\Users\\ofk58\\bitirme\\deep-learning\\30-voice\\30_speakers_train/8226-274369-0003.flac\n",
      "C:\\Users\\ofk58\\bitirme\\deep-learning\\30-voice\\30_speakers_train/7859-102518-0003.flac\n",
      "C:\\Users\\ofk58\\bitirme\\deep-learning\\30-voice\\30_speakers_train/8108-274318-0001.flac\n",
      "C:\\Users\\ofk58\\bitirme\\deep-learning\\30-voice\\30_speakers_train/8123-275193-0001.flac\n",
      "C:\\Users\\ofk58\\bitirme\\deep-learning\\30-voice\\30_speakers_train/7517-100429-0001.flac\n",
      "C:\\Users\\ofk58\\bitirme\\deep-learning\\30-voice\\30_speakers_train/7780-274562-0003.flac\n",
      "C:\\Users\\ofk58\\bitirme\\deep-learning\\30-voice\\30_speakers_train/8063-274112-0001.flac\n",
      "C:\\Users\\ofk58\\bitirme\\deep-learning\\30-voice\\30_speakers_train/7367-86737-0003.flac\n",
      "C:\\Users\\ofk58\\bitirme\\deep-learning\\30-voice\\30_speakers_train/7517-100429-0002.flac\n",
      "C:\\Users\\ofk58\\bitirme\\deep-learning\\30-voice\\30_speakers_train/8108-274318-0003.flac\n",
      "C:\\Users\\ofk58\\bitirme\\deep-learning\\30-voice\\30_speakers_train/8014-112586-0000.flac\n",
      "C:\\Users\\ofk58\\bitirme\\deep-learning\\30-voice\\30_speakers_train/7505-83618-0003.flac\n",
      "C:\\Users\\ofk58\\bitirme\\deep-learning\\30-voice\\30_speakers_train/7447-91186-0001.flac\n",
      "C:\\Users\\ofk58\\bitirme\\deep-learning\\30-voice\\30_speakers_train/8123-275193-0003.flac\n",
      "C:\\Users\\ofk58\\bitirme\\deep-learning\\30-voice\\30_speakers_train/8063-274112-0003.flac\n",
      "C:\\Users\\ofk58\\bitirme\\deep-learning\\30-voice\\30_speakers_train/7511-102419-0000.flac\n",
      "C:\\Users\\ofk58\\bitirme\\deep-learning\\30-voice\\30_speakers_train/8098-275181-0003.flac\n",
      "C:\\Users\\ofk58\\bitirme\\deep-learning\\30-voice\\30_speakers_train/7278-91083-0003.flac\n",
      "C:\\Users\\ofk58\\bitirme\\deep-learning\\30-voice\\30_speakers_train/7800-283478-0003.flac\n",
      "C:\\Users\\ofk58\\bitirme\\deep-learning\\30-voice\\30_speakers_train/8098-275181-0000.flac\n",
      "C:\\Users\\ofk58\\bitirme\\deep-learning\\30-voice\\30_speakers_train/8324-286681-0003.flac\n",
      "C:\\Users\\ofk58\\bitirme\\deep-learning\\30-voice\\30_speakers_train/7302-86814-0001.flac\n",
      "C:\\Users\\ofk58\\bitirme\\deep-learning\\30-voice\\30_speakers_train/7794-295947-0000.flac\n",
      "C:\\Users\\ofk58\\bitirme\\deep-learning\\30-voice\\30_speakers_train/8465-246940-0003.flac\n",
      "C:\\Users\\ofk58\\bitirme\\deep-learning\\30-voice\\30_speakers_train/8312-279790-0002.flac\n",
      "C:\\Users\\ofk58\\bitirme\\deep-learning\\30-voice\\30_speakers_train/8051-118101-0001.flac\n",
      "C:\\Users\\ofk58\\bitirme\\deep-learning\\30-voice\\30_speakers_train/8419-286667-0002.flac\n",
      "C:\\Users\\ofk58\\bitirme\\deep-learning\\30-voice\\30_speakers_train/8238-274553-0003.flac\n",
      "C:\\Users\\ofk58\\bitirme\\deep-learning\\30-voice\\30_speakers_train/7794-295947-0001.flac\n",
      "C:\\Users\\ofk58\\bitirme\\deep-learning\\30-voice\\30_speakers_train/8014-112586-0003.flac\n",
      "C:\\Users\\ofk58\\bitirme\\deep-learning\\30-voice\\30_speakers_train/7402-59171-0003.flac\n",
      "C:\\Users\\ofk58\\bitirme\\deep-learning\\30-voice\\30_speakers_train/8312-279790-0001.flac\n",
      "C:\\Users\\ofk58\\bitirme\\deep-learning\\30-voice\\30_speakers_train/7780-274562-0002.flac\n",
      "C:\\Users\\ofk58\\bitirme\\deep-learning\\30-voice\\30_speakers_train/8465-246940-0001.flac\n",
      "C:\\Users\\ofk58\\bitirme\\deep-learning\\30-voice\\30_speakers_train/7367-86737-0002.flac\n",
      "C:\\Users\\ofk58\\bitirme\\deep-learning\\30-voice\\30_speakers_train/8425-246962-0002.flac\n"
     ]
    },
    {
     "name": "stderr",
     "output_type": "stream",
     "text": [
      "C:\\Users\\ofk58\\anaconda3\\lib\\site-packages\\librosa\\core\\spectrum.py:222: UserWarning: n_fft=1024 is too small for input signal of length=900\n",
      "  warnings.warn(\n"
     ]
    },
    {
     "name": "stdout",
     "output_type": "stream",
     "text": [
      "C:\\Users\\ofk58\\bitirme\\deep-learning\\30-voice\\30_speakers_train/7402-59171-0000.flac\n",
      "C:\\Users\\ofk58\\bitirme\\deep-learning\\30-voice\\30_speakers_train/7447-91186-0002.flac\n",
      "C:\\Users\\ofk58\\bitirme\\deep-learning\\30-voice\\30_speakers_train/7800-283478-0001.flac\n",
      "C:\\Users\\ofk58\\bitirme\\deep-learning\\30-voice\\30_speakers_train/8425-246962-0000.flac\n",
      "C:\\Users\\ofk58\\bitirme\\deep-learning\\30-voice\\30_speakers_train/7402-59171-0002.flac\n",
      "C:\\Users\\ofk58\\bitirme\\deep-learning\\30-voice\\30_speakers_train/7859-102518-0000.flac\n",
      "C:\\Users\\ofk58\\bitirme\\deep-learning\\30-voice\\30_speakers_train/7859-102518-0002.flac\n",
      "C:\\Users\\ofk58\\bitirme\\deep-learning\\30-voice\\30_speakers_train/8088-284756-0000.flac\n",
      "C:\\Users\\ofk58\\bitirme\\deep-learning\\30-voice\\30_speakers_train/8088-284756-0002.flac\n",
      "C:\\Users\\ofk58\\bitirme\\deep-learning\\30-voice\\30_speakers_train/8468-286673-0001.flac\n",
      "C:\\Users\\ofk58\\bitirme\\deep-learning\\30-voice\\30_speakers_train/7278-91083-0002.flac\n"
     ]
    },
    {
     "name": "stderr",
     "output_type": "stream",
     "text": [
      "C:\\Users\\ofk58\\anaconda3\\lib\\site-packages\\librosa\\core\\spectrum.py:222: UserWarning: n_fft=1024 is too small for input signal of length=834\n",
      "  warnings.warn(\n"
     ]
    },
    {
     "name": "stdout",
     "output_type": "stream",
     "text": [
      "C:\\Users\\ofk58\\bitirme\\deep-learning\\30-voice\\30_speakers_train/8088-284756-0001.flac\n",
      "C:\\Users\\ofk58\\bitirme\\deep-learning\\30-voice\\30_speakers_train/8324-286681-0001.flac\n",
      "C:\\Users\\ofk58\\bitirme\\deep-learning\\30-voice\\30_speakers_train/7447-91186-0003.flac\n",
      "C:\\Users\\ofk58\\bitirme\\deep-learning\\30-voice\\30_speakers_train/8051-118101-0002.flac\n",
      "C:\\Users\\ofk58\\bitirme\\deep-learning\\30-voice\\30_speakers_train/8095-274345-0002.flac\n",
      "C:\\Users\\ofk58\\bitirme\\deep-learning\\30-voice\\30_speakers_train/7635-105409-0003.flac\n",
      "C:\\Users\\ofk58\\bitirme\\deep-learning\\30-voice\\30_speakers_train/7517-100429-0000.flac\n",
      "C:\\Users\\ofk58\\bitirme\\deep-learning\\30-voice\\30_speakers_train/8468-286673-0002.flac\n",
      "C:\\Users\\ofk58\\bitirme\\deep-learning\\30-voice\\30_speakers_train/8123-275193-0002.flac\n",
      "C:\\Users\\ofk58\\bitirme\\deep-learning\\30-voice\\30_speakers_train/8051-118101-0000.flac\n",
      "C:\\Users\\ofk58\\bitirme\\deep-learning\\30-voice\\30_speakers_train/8095-274345-0001.flac\n",
      "C:\\Users\\ofk58\\bitirme\\deep-learning\\30-voice\\30_speakers_train/8419-286667-0003.flac\n",
      "C:\\Users\\ofk58\\bitirme\\deep-learning\\30-voice\\30_speakers_train/7511-102419-0003.flac\n"
     ]
    },
    {
     "name": "stderr",
     "output_type": "stream",
     "text": [
      "C:\\Users\\ofk58\\anaconda3\\lib\\site-packages\\librosa\\core\\spectrum.py:222: UserWarning: n_fft=1024 is too small for input signal of length=709\n",
      "  warnings.warn(\n"
     ]
    },
    {
     "name": "stdout",
     "output_type": "stream",
     "text": [
      "C:\\Users\\ofk58\\bitirme\\deep-learning\\30-voice\\30_speakers_train/7447-91186-0000.flac\n",
      "C:\\Users\\ofk58\\bitirme\\deep-learning\\30-voice\\30_speakers_train/8465-246940-0002.flac\n",
      "C:\\Users\\ofk58\\bitirme\\deep-learning\\30-voice\\30_speakers_train/8095-274345-0003.flac\n",
      "C:\\Users\\ofk58\\bitirme\\deep-learning\\30-voice\\30_speakers_train/7367-86737-0001.flac\n",
      "C:\\Users\\ofk58\\bitirme\\deep-learning\\30-voice\\30_speakers_train/7302-86814-0002.flac\n",
      "C:\\Users\\ofk58\\bitirme\\deep-learning\\30-voice\\30_speakers_train/8014-112586-0002.flac\n",
      "C:\\Users\\ofk58\\bitirme\\deep-learning\\30-voice\\30_speakers_train/7278-91083-0000.flac\n",
      "C:\\Users\\ofk58\\bitirme\\deep-learning\\30-voice\\30_speakers_train/8226-274369-0000.flac\n",
      "C:\\Users\\ofk58\\bitirme\\deep-learning\\30-voice\\30_speakers_train/8312-279790-0000.flac\n",
      "C:\\Users\\ofk58\\bitirme\\deep-learning\\30-voice\\30_speakers_train/7367-86737-0000.flac\n",
      "C:\\Users\\ofk58\\bitirme\\deep-learning\\30-voice\\30_speakers_train/7800-283478-0002.flac\n",
      "C:\\Users\\ofk58\\bitirme\\deep-learning\\30-voice\\30_speakers_train/7505-83618-0000.flac\n"
     ]
    },
    {
     "name": "stderr",
     "output_type": "stream",
     "text": [
      "C:\\Users\\ofk58\\anaconda3\\lib\\site-packages\\librosa\\core\\spectrum.py:222: UserWarning: n_fft=1024 is too small for input signal of length=926\n",
      "  warnings.warn(\n"
     ]
    },
    {
     "name": "stdout",
     "output_type": "stream",
     "text": [
      "C:\\Users\\ofk58\\bitirme\\deep-learning\\30-voice\\30_speakers_train/7312-92432-0000.flac\n",
      "C:\\Users\\ofk58\\bitirme\\deep-learning\\30-voice\\30_speakers_train/8419-286667-0001.flac\n",
      "C:\\Users\\ofk58\\bitirme\\deep-learning\\30-voice\\30_speakers_train/7511-102419-0001.flac\n",
      "C:\\Users\\ofk58\\bitirme\\deep-learning\\30-voice\\30_speakers_train/8123-275193-0000.flac\n",
      "C:\\Users\\ofk58\\bitirme\\deep-learning\\30-voice\\30_speakers_train/8425-246962-0003.flac\n",
      "C:\\Users\\ofk58\\bitirme\\deep-learning\\30-voice\\30_speakers_train/7794-295947-0002.flac\n",
      "C:\\Users\\ofk58\\bitirme\\deep-learning\\30-voice\\30_speakers_train/8098-275181-0001.flac\n",
      "C:\\Users\\ofk58\\bitirme\\deep-learning\\30-voice\\30_speakers_train/8088-284756-0003.flac\n"
     ]
    }
   ],
   "source": [
    "train_features = train_df.apply(extract_features, axis=1)"
   ]
  },
  {
   "cell_type": "code",
   "execution_count": 70,
   "metadata": {},
   "outputs": [
    {
     "data": {
      "text/plain": [
       "0      ([-333.4225, 111.555855, -6.5648766, 39.01111,...\n",
       "1      ([-440.90036, 78.803795, 3.6576352, 29.471083,...\n",
       "2      ([-329.99475, 112.845345, -7.87901, 41.892086,...\n",
       "3      ([-364.01373, 106.98511, -21.287502, 54.265522...\n",
       "4      ([-338.32397, 127.13915, -20.86579, 26.862549,...\n",
       "                             ...                        \n",
       "115    ([-387.12476, 111.12849, -6.928802, 37.730446,...\n",
       "116    ([-370.41046, 111.12376, -6.564943, 50.62952, ...\n",
       "117    ([-321.84262, 99.288, -30.164042, 47.23295, -1...\n",
       "118    ([-366.03772, 123.22622, 5.6244016, 50.61275, ...\n",
       "119    ([-331.47177, 114.786415, -65.291504, 73.89316...\n",
       "Length: 120, dtype: object"
      ]
     },
     "execution_count": 70,
     "metadata": {},
     "output_type": "execute_result"
    }
   ],
   "source": [
    "train_features"
   ]
  },
  {
   "cell_type": "code",
   "execution_count": 32,
   "metadata": {},
   "outputs": [],
   "source": [
    "features_train = []\n",
    "for i in range(0, len(train_features)):\n",
    "    features_train.append(np.concatenate((train_features[i][0], train_features[i][1], \n",
    "                train_features[i][2], train_features[i][3],\n",
    "                train_features[i][4]), axis=0))"
   ]
  },
  {
   "cell_type": "code",
   "execution_count": 33,
   "metadata": {},
   "outputs": [
    {
     "data": {
      "text/plain": [
       "193"
      ]
     },
     "execution_count": 33,
     "metadata": {},
     "output_type": "execute_result"
    }
   ],
   "source": [
    "features_train[0].size"
   ]
  },
  {
   "cell_type": "code",
   "execution_count": 34,
   "metadata": {},
   "outputs": [],
   "source": [
    "X_train = np.array(features_train)"
   ]
  },
  {
   "cell_type": "code",
   "execution_count": 35,
   "metadata": {},
   "outputs": [],
   "source": [
    "##np.save('features_train', features_train)"
   ]
  },
  {
   "cell_type": "code",
   "execution_count": 36,
   "metadata": {},
   "outputs": [],
   "source": [
    "# Although this function was modified and many parameteres were explored with, most of it\n",
    "# came from Source 8 (sources in the READ.ME)\n",
    "def extract_features(files):\n",
    "    \n",
    "    # Sets the name to be the path to where the file is in my computer\n",
    "    file_name = os.path.join(os.path.abspath('30_speakers_val')+'/'+str(files.file))\n",
    "    print(file_name)\n",
    "\n",
    "\n",
    "    # Loads the audio file as a floating point time series and assigns the default sample rate\n",
    "    # Sample rate is set to 22050 by default\n",
    "    X, sample_rate = librosa.load(file_name, res_type='kaiser_fast') \n",
    "\n",
    "    # Generate Mel-frequency cepstral coefficients (MFCCs) from a time series \n",
    "    mfccs = np.mean(librosa.feature.mfcc(y=X, sr=sample_rate, n_mfcc=40).T,axis=0)\n",
    "\n",
    "    # Generates a Short-time Fourier transform (STFT) to use in the chroma_stft\n",
    "    stft = np.abs(librosa.stft(X))\n",
    "\n",
    "    # Computes a chromagram from a waveform or power spectrogram.\n",
    "    chroma = np.mean(librosa.feature.chroma_stft(S=stft, sr=sample_rate).T,axis=0)\n",
    "\n",
    "    # Computes a mel-scaled spectrogram.\n",
    "    mel = np.mean(librosa.feature.melspectrogram(X, sr=sample_rate).T,axis=0)\n",
    "\n",
    "    # Computes spectral contrast\n",
    "    contrast = np.mean(librosa.feature.spectral_contrast(S=stft, sr=sample_rate).T,axis=0)\n",
    "\n",
    "    # Computes the tonal centroid features (tonnetz)\n",
    "    tonnetz = np.mean(librosa.feature.tonnetz(y=librosa.effects.harmonic(X),\n",
    "    sr=sample_rate).T,axis=0)\n",
    "\n",
    "    return mfccs, chroma, mel, contrast, tonnetz"
   ]
  },
  {
   "cell_type": "code",
   "execution_count": 37,
   "metadata": {},
   "outputs": [
    {
     "name": "stdout",
     "output_type": "stream",
     "text": [
      "C:\\Users\\ofk58\\bitirme\\deep-learning\\30-voice\\30_speakers_val/8088-284756-0009.flac\n",
      "C:\\Users\\ofk58\\bitirme\\deep-learning\\30-voice\\30_speakers_val/7312-92432-0009.flac\n",
      "C:\\Users\\ofk58\\bitirme\\deep-learning\\30-voice\\30_speakers_val/8238-274553-0009.flac\n",
      "C:\\Users\\ofk58\\bitirme\\deep-learning\\30-voice\\30_speakers_val/8468-286673-0007.flac\n",
      "C:\\Users\\ofk58\\bitirme\\deep-learning\\30-voice\\30_speakers_val/8014-112586-0007.flac\n",
      "C:\\Users\\ofk58\\bitirme\\deep-learning\\30-voice\\30_speakers_val/7278-91083-0008.flac\n",
      "C:\\Users\\ofk58\\bitirme\\deep-learning\\30-voice\\30_speakers_val/7517-100429-0009.flac\n",
      "C:\\Users\\ofk58\\bitirme\\deep-learning\\30-voice\\30_speakers_val/7794-295947-0009.flac\n",
      "C:\\Users\\ofk58\\bitirme\\deep-learning\\30-voice\\30_speakers_val/8324-286681-0009.flac\n",
      "C:\\Users\\ofk58\\bitirme\\deep-learning\\30-voice\\30_speakers_val/8465-246940-0009.flac\n",
      "C:\\Users\\ofk58\\bitirme\\deep-learning\\30-voice\\30_speakers_val/8051-118101-0008.flac\n",
      "C:\\Users\\ofk58\\bitirme\\deep-learning\\30-voice\\30_speakers_val/8014-112586-0009.flac\n",
      "C:\\Users\\ofk58\\bitirme\\deep-learning\\30-voice\\30_speakers_val/8123-275193-0009.flac\n",
      "C:\\Users\\ofk58\\bitirme\\deep-learning\\30-voice\\30_speakers_val/7505-83618-0008.flac\n",
      "C:\\Users\\ofk58\\bitirme\\deep-learning\\30-voice\\30_speakers_val/8468-286673-0008.flac\n",
      "C:\\Users\\ofk58\\bitirme\\deep-learning\\30-voice\\30_speakers_val/8465-246940-0007.flac\n",
      "C:\\Users\\ofk58\\bitirme\\deep-learning\\30-voice\\30_speakers_val/8238-274553-0008.flac\n"
     ]
    },
    {
     "name": "stderr",
     "output_type": "stream",
     "text": [
      "C:\\Users\\ofk58\\anaconda3\\lib\\site-packages\\librosa\\core\\spectrum.py:222: UserWarning: n_fft=1024 is too small for input signal of length=1020\n",
      "  warnings.warn(\n"
     ]
    },
    {
     "name": "stdout",
     "output_type": "stream",
     "text": [
      "C:\\Users\\ofk58\\bitirme\\deep-learning\\30-voice\\30_speakers_val/7505-83618-0009.flac\n",
      "C:\\Users\\ofk58\\bitirme\\deep-learning\\30-voice\\30_speakers_val/7367-86737-0007.flac\n",
      "C:\\Users\\ofk58\\bitirme\\deep-learning\\30-voice\\30_speakers_val/8324-286681-0007.flac\n",
      "C:\\Users\\ofk58\\bitirme\\deep-learning\\30-voice\\30_speakers_val/7278-91083-0009.flac\n",
      "C:\\Users\\ofk58\\bitirme\\deep-learning\\30-voice\\30_speakers_val/8063-274112-0009.flac\n",
      "C:\\Users\\ofk58\\bitirme\\deep-learning\\30-voice\\30_speakers_val/7800-283478-0007.flac\n",
      "C:\\Users\\ofk58\\bitirme\\deep-learning\\30-voice\\30_speakers_val/8226-274369-0009.flac\n",
      "C:\\Users\\ofk58\\bitirme\\deep-learning\\30-voice\\30_speakers_val/8088-284756-0007.flac\n",
      "C:\\Users\\ofk58\\bitirme\\deep-learning\\30-voice\\30_speakers_val/8312-279790-0008.flac\n",
      "C:\\Users\\ofk58\\bitirme\\deep-learning\\30-voice\\30_speakers_val/8123-275193-0008.flac\n",
      "C:\\Users\\ofk58\\bitirme\\deep-learning\\30-voice\\30_speakers_val/7511-102419-0007.flac\n",
      "C:\\Users\\ofk58\\bitirme\\deep-learning\\30-voice\\30_speakers_val/8324-286681-0008.flac\n",
      "C:\\Users\\ofk58\\bitirme\\deep-learning\\30-voice\\30_speakers_val/8419-286667-0007.flac\n",
      "C:\\Users\\ofk58\\bitirme\\deep-learning\\30-voice\\30_speakers_val/7800-283478-0009.flac\n",
      "C:\\Users\\ofk58\\bitirme\\deep-learning\\30-voice\\30_speakers_val/7367-86737-0009.flac\n",
      "C:\\Users\\ofk58\\bitirme\\deep-learning\\30-voice\\30_speakers_val/7447-91186-0009.flac\n",
      "C:\\Users\\ofk58\\bitirme\\deep-learning\\30-voice\\30_speakers_val/7635-105409-0007.flac\n",
      "C:\\Users\\ofk58\\bitirme\\deep-learning\\30-voice\\30_speakers_val/7302-86814-0009.flac\n",
      "C:\\Users\\ofk58\\bitirme\\deep-learning\\30-voice\\30_speakers_val/7447-91186-0008.flac\n",
      "C:\\Users\\ofk58\\bitirme\\deep-learning\\30-voice\\30_speakers_val/7302-86814-0007.flac\n",
      "C:\\Users\\ofk58\\bitirme\\deep-learning\\30-voice\\30_speakers_val/8226-274369-0008.flac\n",
      "C:\\Users\\ofk58\\bitirme\\deep-learning\\30-voice\\30_speakers_val/7511-102419-0008.flac\n"
     ]
    },
    {
     "name": "stderr",
     "output_type": "stream",
     "text": [
      "C:\\Users\\ofk58\\anaconda3\\lib\\site-packages\\librosa\\core\\spectrum.py:222: UserWarning: n_fft=1024 is too small for input signal of length=1012\n",
      "  warnings.warn(\n"
     ]
    },
    {
     "name": "stdout",
     "output_type": "stream",
     "text": [
      "C:\\Users\\ofk58\\bitirme\\deep-learning\\30-voice\\30_speakers_val/8123-275193-0007.flac\n",
      "C:\\Users\\ofk58\\bitirme\\deep-learning\\30-voice\\30_speakers_val/8465-246940-0008.flac\n",
      "C:\\Users\\ofk58\\bitirme\\deep-learning\\30-voice\\30_speakers_val/7800-283478-0008.flac\n",
      "C:\\Users\\ofk58\\bitirme\\deep-learning\\30-voice\\30_speakers_val/7794-295947-0007.flac\n",
      "C:\\Users\\ofk58\\bitirme\\deep-learning\\30-voice\\30_speakers_val/8108-274318-0008.flac\n",
      "C:\\Users\\ofk58\\bitirme\\deep-learning\\30-voice\\30_speakers_val/7367-86737-0008.flac\n",
      "C:\\Users\\ofk58\\bitirme\\deep-learning\\30-voice\\30_speakers_val/8063-274112-0008.flac\n",
      "C:\\Users\\ofk58\\bitirme\\deep-learning\\30-voice\\30_speakers_val/8312-279790-0009.flac\n",
      "C:\\Users\\ofk58\\bitirme\\deep-learning\\30-voice\\30_speakers_val/7312-92432-0007.flac\n",
      "C:\\Users\\ofk58\\bitirme\\deep-learning\\30-voice\\30_speakers_val/7780-274562-0007.flac\n",
      "C:\\Users\\ofk58\\bitirme\\deep-learning\\30-voice\\30_speakers_val/7402-59171-0008.flac\n",
      "C:\\Users\\ofk58\\bitirme\\deep-learning\\30-voice\\30_speakers_val/8238-274553-0007.flac\n",
      "C:\\Users\\ofk58\\bitirme\\deep-learning\\30-voice\\30_speakers_val/8095-274345-0009.flac\n",
      "C:\\Users\\ofk58\\bitirme\\deep-learning\\30-voice\\30_speakers_val/7794-295947-0008.flac\n",
      "C:\\Users\\ofk58\\bitirme\\deep-learning\\30-voice\\30_speakers_val/8226-274369-0007.flac\n",
      "C:\\Users\\ofk58\\bitirme\\deep-learning\\30-voice\\30_speakers_val/7447-91186-0007.flac\n",
      "C:\\Users\\ofk58\\bitirme\\deep-learning\\30-voice\\30_speakers_val/7312-92432-0008.flac\n",
      "C:\\Users\\ofk58\\bitirme\\deep-learning\\30-voice\\30_speakers_val/8425-246962-0008.flac\n",
      "C:\\Users\\ofk58\\bitirme\\deep-learning\\30-voice\\30_speakers_val/8098-275181-0007.flac\n",
      "C:\\Users\\ofk58\\bitirme\\deep-learning\\30-voice\\30_speakers_val/8095-274345-0007.flac\n",
      "C:\\Users\\ofk58\\bitirme\\deep-learning\\30-voice\\30_speakers_val/8063-274112-0007.flac\n",
      "C:\\Users\\ofk58\\bitirme\\deep-learning\\30-voice\\30_speakers_val/8312-279790-0007.flac\n",
      "C:\\Users\\ofk58\\bitirme\\deep-learning\\30-voice\\30_speakers_val/7278-91083-0010.flac\n",
      "C:\\Users\\ofk58\\bitirme\\deep-learning\\30-voice\\30_speakers_val/8051-118101-0009.flac\n",
      "C:\\Users\\ofk58\\bitirme\\deep-learning\\30-voice\\30_speakers_val/8014-112586-0008.flac\n",
      "C:\\Users\\ofk58\\bitirme\\deep-learning\\30-voice\\30_speakers_val/7505-83618-0007.flac\n",
      "C:\\Users\\ofk58\\bitirme\\deep-learning\\30-voice\\30_speakers_val/8425-246962-0007.flac\n",
      "C:\\Users\\ofk58\\bitirme\\deep-learning\\30-voice\\30_speakers_val/8095-274345-0008.flac\n",
      "C:\\Users\\ofk58\\bitirme\\deep-learning\\30-voice\\30_speakers_val/8051-118101-0007.flac\n",
      "C:\\Users\\ofk58\\bitirme\\deep-learning\\30-voice\\30_speakers_val/8108-274318-0009.flac\n",
      "C:\\Users\\ofk58\\bitirme\\deep-learning\\30-voice\\30_speakers_val/7780-274562-0009.flac\n",
      "C:\\Users\\ofk58\\bitirme\\deep-learning\\30-voice\\30_speakers_val/8098-275181-0009.flac\n",
      "C:\\Users\\ofk58\\bitirme\\deep-learning\\30-voice\\30_speakers_val/7859-102518-0008.flac\n",
      "C:\\Users\\ofk58\\bitirme\\deep-learning\\30-voice\\30_speakers_val/8098-275181-0008.flac\n",
      "C:\\Users\\ofk58\\bitirme\\deep-learning\\30-voice\\30_speakers_val/8425-246962-0009.flac\n",
      "C:\\Users\\ofk58\\bitirme\\deep-learning\\30-voice\\30_speakers_val/7517-100429-0007.flac\n",
      "C:\\Users\\ofk58\\bitirme\\deep-learning\\30-voice\\30_speakers_val/8419-286667-0008.flac\n",
      "C:\\Users\\ofk58\\bitirme\\deep-learning\\30-voice\\30_speakers_val/8419-286667-0009.flac\n",
      "C:\\Users\\ofk58\\bitirme\\deep-learning\\30-voice\\30_speakers_val/8108-274318-0007.flac\n",
      "C:\\Users\\ofk58\\bitirme\\deep-learning\\30-voice\\30_speakers_val/7859-102518-0007.flac\n",
      "C:\\Users\\ofk58\\bitirme\\deep-learning\\30-voice\\30_speakers_val/7402-59171-0007.flac\n",
      "C:\\Users\\ofk58\\bitirme\\deep-learning\\30-voice\\30_speakers_val/7635-105409-0008.flac\n",
      "C:\\Users\\ofk58\\bitirme\\deep-learning\\30-voice\\30_speakers_val/7780-274562-0008.flac\n",
      "C:\\Users\\ofk58\\bitirme\\deep-learning\\30-voice\\30_speakers_val/7302-86814-0008.flac\n",
      "C:\\Users\\ofk58\\bitirme\\deep-learning\\30-voice\\30_speakers_val/8088-284756-0008.flac\n",
      "C:\\Users\\ofk58\\bitirme\\deep-learning\\30-voice\\30_speakers_val/8468-286673-0009.flac\n",
      "C:\\Users\\ofk58\\bitirme\\deep-learning\\30-voice\\30_speakers_val/7635-105409-0009.flac\n",
      "C:\\Users\\ofk58\\bitirme\\deep-learning\\30-voice\\30_speakers_val/7402-59171-0009.flac\n",
      "C:\\Users\\ofk58\\bitirme\\deep-learning\\30-voice\\30_speakers_val/7859-102518-0009.flac\n",
      "C:\\Users\\ofk58\\bitirme\\deep-learning\\30-voice\\30_speakers_val/7511-102419-0009.flac\n",
      "C:\\Users\\ofk58\\bitirme\\deep-learning\\30-voice\\30_speakers_val/7517-100429-0008.flac\n"
     ]
    }
   ],
   "source": [
    "val_features = val_df.apply(extract_features, axis=1)"
   ]
  },
  {
   "cell_type": "code",
   "execution_count": 38,
   "metadata": {},
   "outputs": [],
   "source": [
    "features_val = []\n",
    "for i in range(0, len(val_features)):\n",
    "    features_val.append(np.concatenate((val_features[i][0], val_features[i][1], \n",
    "                val_features[i][2], val_features[i][3],\n",
    "                val_features[i][4]), axis=0))"
   ]
  },
  {
   "cell_type": "code",
   "execution_count": 39,
   "metadata": {},
   "outputs": [],
   "source": [
    "X_val = np.array(features_val)"
   ]
  },
  {
   "cell_type": "code",
   "execution_count": 40,
   "metadata": {},
   "outputs": [],
   "source": [
    "##np.save('features_val', features_val)"
   ]
  },
  {
   "cell_type": "code",
   "execution_count": 41,
   "metadata": {},
   "outputs": [],
   "source": [
    "# Although this function was modified and many parameteres were explored with, most of it\n",
    "def extract_features(files):\n",
    "    \n",
    "    # Sets the name to be the path to where the file is in my computer\n",
    "    file_name = os.path.join(os.path.abspath('30_speakers_test')+'/'+str(files.file))\n",
    "    print(file_name)\n",
    "\n",
    "    # Loads the audio file as a floating point time series and assigns the default sample rate\n",
    "    # Sample rate is set to 22050 by default\n",
    "    X, sample_rate = librosa.load(file_name, res_type='kaiser_fast') \n",
    "\n",
    "    # Generate Mel-frequency cepstral coefficients (MFCCs) from a time series \n",
    "    mfccs = np.mean(librosa.feature.mfcc(y=X, sr=sample_rate, n_mfcc=40).T,axis=0)\n",
    "\n",
    "    # Generates a Short-time Fourier transform (STFT) to use in the chroma_stft\n",
    "    stft = np.abs(librosa.stft(X))\n",
    "\n",
    "    # Computes a chromagram from a waveform or power spectrogram.\n",
    "    chroma = np.mean(librosa.feature.chroma_stft(S=stft, sr=sample_rate).T,axis=0)\n",
    "\n",
    "    # Computes a mel-scaled spectrogram.\n",
    "    mel = np.mean(librosa.feature.melspectrogram(X, sr=sample_rate).T,axis=0)\n",
    "\n",
    "    # Computes spectral contrast\n",
    "    contrast = np.mean(librosa.feature.spectral_contrast(S=stft, sr=sample_rate).T,axis=0)\n",
    "\n",
    "    # Computes the tonal centroid features (tonnetz)\n",
    "    tonnetz = np.mean(librosa.feature.tonnetz(y=librosa.effects.harmonic(X),\n",
    "    sr=sample_rate).T,axis=0)\n",
    "\n",
    "    return mfccs, chroma, mel, contrast, tonnetz"
   ]
  },
  {
   "cell_type": "code",
   "execution_count": 42,
   "metadata": {},
   "outputs": [
    {
     "name": "stdout",
     "output_type": "stream",
     "text": [
      "C:\\Users\\ofk58\\bitirme\\deep-learning\\30-voice\\30_speakers_test/7312-92432-0004.flac\n",
      "C:\\Users\\ofk58\\bitirme\\deep-learning\\30-voice\\30_speakers_test/8014-112586-0006.flac\n",
      "C:\\Users\\ofk58\\bitirme\\deep-learning\\30-voice\\30_speakers_test/8088-284756-0005.flac\n",
      "C:\\Users\\ofk58\\bitirme\\deep-learning\\30-voice\\30_speakers_test/8051-118101-0004.flac\n",
      "C:\\Users\\ofk58\\bitirme\\deep-learning\\30-voice\\30_speakers_test/7635-105409-0005.flac\n",
      "C:\\Users\\ofk58\\bitirme\\deep-learning\\30-voice\\30_speakers_test/8098-275181-0004.flac\n",
      "C:\\Users\\ofk58\\bitirme\\deep-learning\\30-voice\\30_speakers_test/8098-275181-0005.flac\n",
      "C:\\Users\\ofk58\\bitirme\\deep-learning\\30-voice\\30_speakers_test/8324-286681-0005.flac\n",
      "C:\\Users\\ofk58\\bitirme\\deep-learning\\30-voice\\30_speakers_test/8312-279790-0004.flac\n",
      "C:\\Users\\ofk58\\bitirme\\deep-learning\\30-voice\\30_speakers_test/7278-91083-0005.flac\n",
      "C:\\Users\\ofk58\\bitirme\\deep-learning\\30-voice\\30_speakers_test/7505-83618-0005.flac\n",
      "C:\\Users\\ofk58\\bitirme\\deep-learning\\30-voice\\30_speakers_test/8123-275193-0005.flac\n",
      "C:\\Users\\ofk58\\bitirme\\deep-learning\\30-voice\\30_speakers_test/7517-100429-0005.flac\n",
      "C:\\Users\\ofk58\\bitirme\\deep-learning\\30-voice\\30_speakers_test/8425-246962-0004.flac\n",
      "C:\\Users\\ofk58\\bitirme\\deep-learning\\30-voice\\30_speakers_test/7794-295947-0006.flac\n",
      "C:\\Users\\ofk58\\bitirme\\deep-learning\\30-voice\\30_speakers_test/7505-83618-0004.flac\n",
      "C:\\Users\\ofk58\\bitirme\\deep-learning\\30-voice\\30_speakers_test/8088-284756-0006.flac\n",
      "C:\\Users\\ofk58\\bitirme\\deep-learning\\30-voice\\30_speakers_test/8312-279790-0006.flac\n",
      "C:\\Users\\ofk58\\bitirme\\deep-learning\\30-voice\\30_speakers_test/8465-246940-0005.flac\n",
      "C:\\Users\\ofk58\\bitirme\\deep-learning\\30-voice\\30_speakers_test/7402-59171-0005.flac\n",
      "C:\\Users\\ofk58\\bitirme\\deep-learning\\30-voice\\30_speakers_test/7505-83618-0006.flac\n",
      "C:\\Users\\ofk58\\bitirme\\deep-learning\\30-voice\\30_speakers_test/8051-118101-0006.flac\n",
      "C:\\Users\\ofk58\\bitirme\\deep-learning\\30-voice\\30_speakers_test/7859-102518-0006.flac\n",
      "C:\\Users\\ofk58\\bitirme\\deep-learning\\30-voice\\30_speakers_test/8098-275181-0006.flac\n",
      "C:\\Users\\ofk58\\bitirme\\deep-learning\\30-voice\\30_speakers_test/7367-86737-0005.flac\n",
      "C:\\Users\\ofk58\\bitirme\\deep-learning\\30-voice\\30_speakers_test/8226-274369-0004.flac\n",
      "C:\\Users\\ofk58\\bitirme\\deep-learning\\30-voice\\30_speakers_test/7511-102419-0005.flac\n",
      "C:\\Users\\ofk58\\bitirme\\deep-learning\\30-voice\\30_speakers_test/8108-274318-0006.flac\n",
      "C:\\Users\\ofk58\\bitirme\\deep-learning\\30-voice\\30_speakers_test/8095-274345-0006.flac\n",
      "C:\\Users\\ofk58\\bitirme\\deep-learning\\30-voice\\30_speakers_test/7859-102518-0004.flac\n",
      "C:\\Users\\ofk58\\bitirme\\deep-learning\\30-voice\\30_speakers_test/7780-274562-0006.flac\n",
      "C:\\Users\\ofk58\\bitirme\\deep-learning\\30-voice\\30_speakers_test/8226-274369-0006.flac\n",
      "C:\\Users\\ofk58\\bitirme\\deep-learning\\30-voice\\30_speakers_test/7402-59171-0004.flac\n",
      "C:\\Users\\ofk58\\bitirme\\deep-learning\\30-voice\\30_speakers_test/8238-274553-0006.flac\n",
      "C:\\Users\\ofk58\\bitirme\\deep-learning\\30-voice\\30_speakers_test/7780-274562-0004.flac\n",
      "C:\\Users\\ofk58\\bitirme\\deep-learning\\30-voice\\30_speakers_test/8312-279790-0005.flac\n",
      "C:\\Users\\ofk58\\bitirme\\deep-learning\\30-voice\\30_speakers_test/7402-59171-0006.flac\n",
      "C:\\Users\\ofk58\\bitirme\\deep-learning\\30-voice\\30_speakers_test/8063-274112-0006.flac\n",
      "C:\\Users\\ofk58\\bitirme\\deep-learning\\30-voice\\30_speakers_test/8088-284756-0004.flac\n",
      "C:\\Users\\ofk58\\bitirme\\deep-learning\\30-voice\\30_speakers_test/8108-274318-0004.flac\n",
      "C:\\Users\\ofk58\\bitirme\\deep-learning\\30-voice\\30_speakers_test/8014-112586-0005.flac\n",
      "C:\\Users\\ofk58\\bitirme\\deep-learning\\30-voice\\30_speakers_test/7800-283478-0006.flac\n",
      "C:\\Users\\ofk58\\bitirme\\deep-learning\\30-voice\\30_speakers_test/8095-274345-0005.flac\n",
      "C:\\Users\\ofk58\\bitirme\\deep-learning\\30-voice\\30_speakers_test/8324-286681-0004.flac\n",
      "C:\\Users\\ofk58\\bitirme\\deep-learning\\30-voice\\30_speakers_test/7511-102419-0006.flac\n",
      "C:\\Users\\ofk58\\bitirme\\deep-learning\\30-voice\\30_speakers_test/7367-86737-0004.flac\n",
      "C:\\Users\\ofk58\\bitirme\\deep-learning\\30-voice\\30_speakers_test/8014-112586-0004.flac\n",
      "C:\\Users\\ofk58\\bitirme\\deep-learning\\30-voice\\30_speakers_test/8324-286681-0006.flac\n",
      "C:\\Users\\ofk58\\bitirme\\deep-learning\\30-voice\\30_speakers_test/7517-100429-0006.flac\n",
      "C:\\Users\\ofk58\\bitirme\\deep-learning\\30-voice\\30_speakers_test/8419-286667-0005.flac\n",
      "C:\\Users\\ofk58\\bitirme\\deep-learning\\30-voice\\30_speakers_test/7302-86814-0005.flac\n",
      "C:\\Users\\ofk58\\bitirme\\deep-learning\\30-voice\\30_speakers_test/7447-91186-0006.flac\n",
      "C:\\Users\\ofk58\\bitirme\\deep-learning\\30-voice\\30_speakers_test/8425-246962-0006.flac\n",
      "C:\\Users\\ofk58\\bitirme\\deep-learning\\30-voice\\30_speakers_test/8095-274345-0004.flac\n",
      "C:\\Users\\ofk58\\bitirme\\deep-learning\\30-voice\\30_speakers_test/8063-274112-0005.flac\n",
      "C:\\Users\\ofk58\\bitirme\\deep-learning\\30-voice\\30_speakers_test/7517-100429-0004.flac\n",
      "C:\\Users\\ofk58\\bitirme\\deep-learning\\30-voice\\30_speakers_test/8063-274112-0004.flac\n",
      "C:\\Users\\ofk58\\bitirme\\deep-learning\\30-voice\\30_speakers_test/7302-86814-0006.flac\n",
      "C:\\Users\\ofk58\\bitirme\\deep-learning\\30-voice\\30_speakers_test/7794-295947-0004.flac\n",
      "C:\\Users\\ofk58\\bitirme\\deep-learning\\30-voice\\30_speakers_test/8051-118101-0005.flac\n",
      "C:\\Users\\ofk58\\bitirme\\deep-learning\\30-voice\\30_speakers_test/8226-274369-0005.flac\n",
      "C:\\Users\\ofk58\\bitirme\\deep-learning\\30-voice\\30_speakers_test/7367-86737-0006.flac\n",
      "C:\\Users\\ofk58\\bitirme\\deep-learning\\30-voice\\30_speakers_test/8108-274318-0005.flac\n",
      "C:\\Users\\ofk58\\bitirme\\deep-learning\\30-voice\\30_speakers_test/8465-246940-0006.flac\n",
      "C:\\Users\\ofk58\\bitirme\\deep-learning\\30-voice\\30_speakers_test/7447-91186-0004.flac\n",
      "C:\\Users\\ofk58\\bitirme\\deep-learning\\30-voice\\30_speakers_test/8419-286667-0006.flac\n",
      "C:\\Users\\ofk58\\bitirme\\deep-learning\\30-voice\\30_speakers_test/7800-283478-0005.flac\n",
      "C:\\Users\\ofk58\\bitirme\\deep-learning\\30-voice\\30_speakers_test/8468-286673-0004.flac\n",
      "C:\\Users\\ofk58\\bitirme\\deep-learning\\30-voice\\30_speakers_test/7302-86814-0004.flac\n",
      "C:\\Users\\ofk58\\bitirme\\deep-learning\\30-voice\\30_speakers_test/7278-91083-0006.flac\n",
      "C:\\Users\\ofk58\\bitirme\\deep-learning\\30-voice\\30_speakers_test/7278-91083-0007.flac\n",
      "C:\\Users\\ofk58\\bitirme\\deep-learning\\30-voice\\30_speakers_test/7511-102419-0004.flac\n",
      "C:\\Users\\ofk58\\bitirme\\deep-learning\\30-voice\\30_speakers_test/8123-275193-0006.flac\n",
      "C:\\Users\\ofk58\\bitirme\\deep-learning\\30-voice\\30_speakers_test/7312-92432-0005.flac\n",
      "C:\\Users\\ofk58\\bitirme\\deep-learning\\30-voice\\30_speakers_test/7635-105409-0004.flac\n",
      "C:\\Users\\ofk58\\bitirme\\deep-learning\\30-voice\\30_speakers_test/7780-274562-0005.flac\n",
      "C:\\Users\\ofk58\\bitirme\\deep-learning\\30-voice\\30_speakers_test/7859-102518-0005.flac\n",
      "C:\\Users\\ofk58\\bitirme\\deep-learning\\30-voice\\30_speakers_test/8419-286667-0004.flac\n",
      "C:\\Users\\ofk58\\bitirme\\deep-learning\\30-voice\\30_speakers_test/7447-91186-0005.flac\n",
      "C:\\Users\\ofk58\\bitirme\\deep-learning\\30-voice\\30_speakers_test/7312-92432-0006.flac\n",
      "C:\\Users\\ofk58\\bitirme\\deep-learning\\30-voice\\30_speakers_test/8465-246940-0004.flac\n",
      "C:\\Users\\ofk58\\bitirme\\deep-learning\\30-voice\\30_speakers_test/8425-246962-0005.flac\n",
      "C:\\Users\\ofk58\\bitirme\\deep-learning\\30-voice\\30_speakers_test/7794-295947-0005.flac\n",
      "C:\\Users\\ofk58\\bitirme\\deep-learning\\30-voice\\30_speakers_test/7635-105409-0006.flac\n",
      "C:\\Users\\ofk58\\bitirme\\deep-learning\\30-voice\\30_speakers_test/8238-274553-0004.flac\n",
      "C:\\Users\\ofk58\\bitirme\\deep-learning\\30-voice\\30_speakers_test/8123-275193-0004.flac\n",
      "C:\\Users\\ofk58\\bitirme\\deep-learning\\30-voice\\30_speakers_test/7800-283478-0004.flac\n",
      "C:\\Users\\ofk58\\bitirme\\deep-learning\\30-voice\\30_speakers_test/8468-286673-0005.flac\n",
      "C:\\Users\\ofk58\\bitirme\\deep-learning\\30-voice\\30_speakers_test/8238-274553-0005.flac\n",
      "C:\\Users\\ofk58\\bitirme\\deep-learning\\30-voice\\30_speakers_test/8468-286673-0006.flac\n"
     ]
    }
   ],
   "source": [
    "test_features = test_df.apply(extract_features, axis=1)"
   ]
  },
  {
   "cell_type": "code",
   "execution_count": 43,
   "metadata": {},
   "outputs": [],
   "source": [
    "features_test = []\n",
    "for i in range(0, len(test_features)):\n",
    "    features_test.append(np.concatenate((test_features[i][0], test_features[i][1], \n",
    "                test_features[i][2], test_features[i][3],\n",
    "                test_features[i][4]), axis=0))"
   ]
  },
  {
   "cell_type": "code",
   "execution_count": 44,
   "metadata": {},
   "outputs": [],
   "source": [
    "X_test = np.array(features_test)"
   ]
  },
  {
   "cell_type": "code",
   "execution_count": 45,
   "metadata": {},
   "outputs": [],
   "source": [
    "##np.save('features_test', features_test)"
   ]
  },
  {
   "cell_type": "code",
   "execution_count": 46,
   "metadata": {},
   "outputs": [
    {
     "data": {
      "text/plain": [
       "0      7302\n",
       "1      8014\n",
       "2      7302\n",
       "3      8108\n",
       "4      7859\n",
       "       ... \n",
       "115    8123\n",
       "116    8425\n",
       "117    7794\n",
       "118    8098\n",
       "119    8088\n",
       "Name: speaker, Length: 120, dtype: object"
      ]
     },
     "execution_count": 46,
     "metadata": {},
     "output_type": "execute_result"
    }
   ],
   "source": [
    "train_df['speaker']"
   ]
  },
  {
   "cell_type": "code",
   "execution_count": 47,
   "metadata": {},
   "outputs": [],
   "source": [
    "y_train = np.array(train_df['speaker'])"
   ]
  },
  {
   "cell_type": "code",
   "execution_count": 48,
   "metadata": {},
   "outputs": [],
   "source": [
    "y_val = np.array(val_df['speaker'])"
   ]
  },
  {
   "cell_type": "code",
   "execution_count": 49,
   "metadata": {},
   "outputs": [],
   "source": [
    "y_test = np.array(test_df['speaker'])"
   ]
  },
  {
   "cell_type": "code",
   "execution_count": 50,
   "metadata": {},
   "outputs": [],
   "source": [
    "from sklearn.preprocessing import LabelEncoder\n",
    "from keras.utils.np_utils import to_categorical"
   ]
  },
  {
   "cell_type": "code",
   "execution_count": 51,
   "metadata": {},
   "outputs": [],
   "source": [
    "# Hot encoding y\n",
    "lb = LabelEncoder()\n",
    "y_train = to_categorical(lb.fit_transform(y_train))\n",
    "y_val = to_categorical(lb.fit_transform(y_val))"
   ]
  },
  {
   "cell_type": "code",
   "execution_count": 52,
   "metadata": {},
   "outputs": [],
   "source": [
    "from sklearn.preprocessing import StandardScaler"
   ]
  },
  {
   "cell_type": "code",
   "execution_count": 53,
   "metadata": {},
   "outputs": [],
   "source": [
    "ss = StandardScaler()\n",
    "X_train = ss.fit_transform(X_train)\n",
    "X_val = ss.transform(X_val)\n",
    "X_test = ss.transform(X_test)"
   ]
  },
  {
   "cell_type": "code",
   "execution_count": 54,
   "metadata": {},
   "outputs": [],
   "source": [
    "from keras.models import Sequential\n",
    "from keras.layers import Dense, Dropout, Activation, Flatten\n",
    "from keras.callbacks import EarlyStopping\n"
   ]
  },
  {
   "cell_type": "code",
   "execution_count": 55,
   "metadata": {},
   "outputs": [],
   "source": [
    "# Build a simple dense model with softmax for categorical classification\n",
    "# We have 30 classes \n",
    "\n",
    "model = Sequential()\n",
    "\n",
    "model.add(Dense(193, input_shape=(193,), activation = 'relu'))\n",
    "model.add(Dropout(0.1))\n",
    "\n",
    "model.add(Dense(128, activation = 'relu'))\n",
    "model.add(Dropout(0.25))  \n",
    "\n",
    "model.add(Dense(128, activation = 'relu'))\n",
    "model.add(Dropout(0.5))    \n",
    "\n",
    "model.add(Dense(30, activation = 'softmax'))\n",
    "\n",
    "model.compile(loss='categorical_crossentropy', metrics=['accuracy'], optimizer='adam')\n",
    "\n",
    "early_stop = EarlyStopping(monitor='val_loss', min_delta=0, patience=100, verbose=1, mode='auto')"
   ]
  },
  {
   "cell_type": "code",
   "execution_count": 56,
   "metadata": {},
   "outputs": [
    {
     "name": "stdout",
     "output_type": "stream",
     "text": [
      "Epoch 1/80\n",
      "1/1 [==============================] - 1s 628ms/step - loss: 3.7103 - accuracy: 0.0333 - val_loss: 3.3655 - val_accuracy: 0.0778\n",
      "Epoch 2/80\n",
      "1/1 [==============================] - 0s 32ms/step - loss: 3.5854 - accuracy: 0.0250 - val_loss: 3.2467 - val_accuracy: 0.0889\n",
      "Epoch 3/80\n",
      "1/1 [==============================] - 0s 30ms/step - loss: 3.4112 - accuracy: 0.0833 - val_loss: 3.1448 - val_accuracy: 0.1222\n",
      "Epoch 4/80\n",
      "1/1 [==============================] - 0s 32ms/step - loss: 3.2661 - accuracy: 0.0417 - val_loss: 3.0559 - val_accuracy: 0.2222\n",
      "Epoch 5/80\n",
      "1/1 [==============================] - 0s 29ms/step - loss: 3.1572 - accuracy: 0.1333 - val_loss: 2.9764 - val_accuracy: 0.2667\n",
      "Epoch 6/80\n",
      "1/1 [==============================] - 0s 30ms/step - loss: 3.0289 - accuracy: 0.1417 - val_loss: 2.9040 - val_accuracy: 0.3000\n",
      "Epoch 7/80\n",
      "1/1 [==============================] - 0s 29ms/step - loss: 2.9698 - accuracy: 0.1667 - val_loss: 2.8350 - val_accuracy: 0.4000\n",
      "Epoch 8/80\n",
      "1/1 [==============================] - 0s 27ms/step - loss: 2.8001 - accuracy: 0.2667 - val_loss: 2.7648 - val_accuracy: 0.4222\n",
      "Epoch 9/80\n",
      "1/1 [==============================] - 0s 27ms/step - loss: 2.7481 - accuracy: 0.2833 - val_loss: 2.6923 - val_accuracy: 0.4667\n",
      "Epoch 10/80\n",
      "1/1 [==============================] - 0s 30ms/step - loss: 2.6757 - accuracy: 0.3000 - val_loss: 2.6174 - val_accuracy: 0.5556\n",
      "Epoch 11/80\n",
      "1/1 [==============================] - 0s 35ms/step - loss: 2.6313 - accuracy: 0.2583 - val_loss: 2.5414 - val_accuracy: 0.5889\n",
      "Epoch 12/80\n",
      "1/1 [==============================] - 0s 28ms/step - loss: 2.4697 - accuracy: 0.3833 - val_loss: 2.4648 - val_accuracy: 0.6222\n",
      "Epoch 13/80\n",
      "1/1 [==============================] - 0s 28ms/step - loss: 2.4729 - accuracy: 0.3750 - val_loss: 2.3889 - val_accuracy: 0.6333\n",
      "Epoch 14/80\n",
      "1/1 [==============================] - 0s 26ms/step - loss: 2.4092 - accuracy: 0.3833 - val_loss: 2.3155 - val_accuracy: 0.6444\n",
      "Epoch 15/80\n",
      "1/1 [==============================] - 0s 27ms/step - loss: 2.2714 - accuracy: 0.3667 - val_loss: 2.2420 - val_accuracy: 0.6778\n",
      "Epoch 16/80\n",
      "1/1 [==============================] - 0s 25ms/step - loss: 2.0658 - accuracy: 0.5000 - val_loss: 2.1712 - val_accuracy: 0.7000\n",
      "Epoch 17/80\n",
      "1/1 [==============================] - 0s 27ms/step - loss: 2.1109 - accuracy: 0.4917 - val_loss: 2.0989 - val_accuracy: 0.7222\n",
      "Epoch 18/80\n",
      "1/1 [==============================] - 0s 29ms/step - loss: 2.0871 - accuracy: 0.5083 - val_loss: 2.0255 - val_accuracy: 0.7444\n",
      "Epoch 19/80\n",
      "1/1 [==============================] - 0s 27ms/step - loss: 2.0273 - accuracy: 0.4917 - val_loss: 1.9519 - val_accuracy: 0.7667\n",
      "Epoch 20/80\n",
      "1/1 [==============================] - 0s 26ms/step - loss: 1.8449 - accuracy: 0.5667 - val_loss: 1.8795 - val_accuracy: 0.7889\n",
      "Epoch 21/80\n",
      "1/1 [==============================] - 0s 40ms/step - loss: 1.6295 - accuracy: 0.6167 - val_loss: 1.8084 - val_accuracy: 0.8000\n",
      "Epoch 22/80\n",
      "1/1 [==============================] - 0s 25ms/step - loss: 1.6523 - accuracy: 0.5833 - val_loss: 1.7328 - val_accuracy: 0.8000\n",
      "Epoch 23/80\n",
      "1/1 [==============================] - 0s 26ms/step - loss: 1.5444 - accuracy: 0.6167 - val_loss: 1.6598 - val_accuracy: 0.8000\n",
      "Epoch 24/80\n",
      "1/1 [==============================] - 0s 27ms/step - loss: 1.7111 - accuracy: 0.5417 - val_loss: 1.5868 - val_accuracy: 0.8111\n",
      "Epoch 25/80\n",
      "1/1 [==============================] - 0s 27ms/step - loss: 1.5086 - accuracy: 0.6333 - val_loss: 1.5105 - val_accuracy: 0.8111\n",
      "Epoch 26/80\n",
      "1/1 [==============================] - 0s 27ms/step - loss: 1.4901 - accuracy: 0.6250 - val_loss: 1.4321 - val_accuracy: 0.8222\n",
      "Epoch 27/80\n",
      "1/1 [==============================] - 0s 29ms/step - loss: 1.2761 - accuracy: 0.7083 - val_loss: 1.3560 - val_accuracy: 0.8667\n",
      "Epoch 28/80\n",
      "1/1 [==============================] - 0s 28ms/step - loss: 1.2207 - accuracy: 0.6917 - val_loss: 1.2808 - val_accuracy: 0.8778\n",
      "Epoch 29/80\n",
      "1/1 [==============================] - 0s 28ms/step - loss: 1.2086 - accuracy: 0.7250 - val_loss: 1.2030 - val_accuracy: 0.9000\n",
      "Epoch 30/80\n",
      "1/1 [==============================] - 0s 28ms/step - loss: 0.9866 - accuracy: 0.8000 - val_loss: 1.1254 - val_accuracy: 0.9000\n",
      "Epoch 31/80\n",
      "1/1 [==============================] - 0s 26ms/step - loss: 0.9143 - accuracy: 0.8250 - val_loss: 1.0542 - val_accuracy: 0.9111\n",
      "Epoch 32/80\n",
      "1/1 [==============================] - 0s 28ms/step - loss: 0.9786 - accuracy: 0.7667 - val_loss: 0.9841 - val_accuracy: 0.9222\n",
      "Epoch 33/80\n",
      "1/1 [==============================] - 0s 27ms/step - loss: 0.8464 - accuracy: 0.7583 - val_loss: 0.9173 - val_accuracy: 0.9222\n",
      "Epoch 34/80\n",
      "1/1 [==============================] - 0s 27ms/step - loss: 0.8968 - accuracy: 0.7667 - val_loss: 0.8567 - val_accuracy: 0.9222\n",
      "Epoch 35/80\n",
      "1/1 [==============================] - 0s 26ms/step - loss: 0.7962 - accuracy: 0.8000 - val_loss: 0.7978 - val_accuracy: 0.9111\n",
      "Epoch 36/80\n",
      "1/1 [==============================] - 0s 27ms/step - loss: 0.7405 - accuracy: 0.8333 - val_loss: 0.7452 - val_accuracy: 0.9000\n",
      "Epoch 37/80\n",
      "1/1 [==============================] - 0s 27ms/step - loss: 0.6361 - accuracy: 0.8250 - val_loss: 0.7004 - val_accuracy: 0.9111\n",
      "Epoch 38/80\n",
      "1/1 [==============================] - 0s 26ms/step - loss: 0.7189 - accuracy: 0.8083 - val_loss: 0.6573 - val_accuracy: 0.9111\n",
      "Epoch 39/80\n",
      "1/1 [==============================] - 0s 28ms/step - loss: 0.5795 - accuracy: 0.8750 - val_loss: 0.6173 - val_accuracy: 0.9222\n",
      "Epoch 40/80\n",
      "1/1 [==============================] - 0s 27ms/step - loss: 0.5762 - accuracy: 0.8333 - val_loss: 0.5794 - val_accuracy: 0.9333\n",
      "Epoch 41/80\n",
      "1/1 [==============================] - 0s 30ms/step - loss: 0.5260 - accuracy: 0.8667 - val_loss: 0.5452 - val_accuracy: 0.9333\n",
      "Epoch 42/80\n",
      "1/1 [==============================] - 0s 27ms/step - loss: 0.5478 - accuracy: 0.8667 - val_loss: 0.5173 - val_accuracy: 0.9333\n",
      "Epoch 43/80\n",
      "1/1 [==============================] - 0s 26ms/step - loss: 0.5753 - accuracy: 0.8167 - val_loss: 0.4944 - val_accuracy: 0.9333\n",
      "Epoch 44/80\n",
      "1/1 [==============================] - 0s 28ms/step - loss: 0.4460 - accuracy: 0.8833 - val_loss: 0.4757 - val_accuracy: 0.9444\n",
      "Epoch 45/80\n",
      "1/1 [==============================] - 0s 27ms/step - loss: 0.4423 - accuracy: 0.8750 - val_loss: 0.4604 - val_accuracy: 0.9444\n",
      "Epoch 46/80\n",
      "1/1 [==============================] - 0s 26ms/step - loss: 0.4319 - accuracy: 0.9000 - val_loss: 0.4542 - val_accuracy: 0.9444\n",
      "Epoch 47/80\n",
      "1/1 [==============================] - 0s 29ms/step - loss: 0.3989 - accuracy: 0.9000 - val_loss: 0.4509 - val_accuracy: 0.9444\n",
      "Epoch 48/80\n",
      "1/1 [==============================] - 0s 31ms/step - loss: 0.3096 - accuracy: 0.9583 - val_loss: 0.4519 - val_accuracy: 0.9444\n",
      "Epoch 49/80\n",
      "1/1 [==============================] - 0s 27ms/step - loss: 0.3696 - accuracy: 0.8917 - val_loss: 0.4500 - val_accuracy: 0.9444\n",
      "Epoch 50/80\n",
      "1/1 [==============================] - 0s 27ms/step - loss: 0.3410 - accuracy: 0.9417 - val_loss: 0.4482 - val_accuracy: 0.9333\n",
      "Epoch 51/80\n",
      "1/1 [==============================] - 0s 28ms/step - loss: 0.2593 - accuracy: 0.9500 - val_loss: 0.4429 - val_accuracy: 0.9333\n",
      "Epoch 52/80\n",
      "1/1 [==============================] - 0s 26ms/step - loss: 0.3461 - accuracy: 0.9167 - val_loss: 0.4459 - val_accuracy: 0.9333\n",
      "Epoch 53/80\n",
      "1/1 [==============================] - 0s 27ms/step - loss: 0.3191 - accuracy: 0.8833 - val_loss: 0.4502 - val_accuracy: 0.9333\n",
      "Epoch 54/80\n",
      "1/1 [==============================] - 0s 25ms/step - loss: 0.3089 - accuracy: 0.9333 - val_loss: 0.4539 - val_accuracy: 0.9333\n",
      "Epoch 55/80\n",
      "1/1 [==============================] - 0s 26ms/step - loss: 0.2235 - accuracy: 0.9750 - val_loss: 0.4592 - val_accuracy: 0.9333\n",
      "Epoch 56/80\n",
      "1/1 [==============================] - 0s 27ms/step - loss: 0.2303 - accuracy: 0.9417 - val_loss: 0.4618 - val_accuracy: 0.9222\n",
      "Epoch 57/80\n",
      "1/1 [==============================] - 0s 25ms/step - loss: 0.2905 - accuracy: 0.9500 - val_loss: 0.4619 - val_accuracy: 0.9222\n",
      "Epoch 58/80\n",
      "1/1 [==============================] - 0s 26ms/step - loss: 0.2234 - accuracy: 0.9250 - val_loss: 0.4592 - val_accuracy: 0.9222\n",
      "Epoch 59/80\n",
      "1/1 [==============================] - 0s 27ms/step - loss: 0.2584 - accuracy: 0.9333 - val_loss: 0.4557 - val_accuracy: 0.9333\n",
      "Epoch 60/80\n",
      "1/1 [==============================] - 0s 26ms/step - loss: 0.2078 - accuracy: 0.9500 - val_loss: 0.4492 - val_accuracy: 0.9333\n",
      "Epoch 61/80\n",
      "1/1 [==============================] - 0s 26ms/step - loss: 0.1695 - accuracy: 0.9667 - val_loss: 0.4404 - val_accuracy: 0.9333\n",
      "Epoch 62/80\n",
      "1/1 [==============================] - 0s 27ms/step - loss: 0.2245 - accuracy: 0.9667 - val_loss: 0.4308 - val_accuracy: 0.9556\n",
      "Epoch 63/80\n",
      "1/1 [==============================] - 0s 25ms/step - loss: 0.1597 - accuracy: 0.9667 - val_loss: 0.4207 - val_accuracy: 0.9556\n",
      "Epoch 64/80\n",
      "1/1 [==============================] - 0s 27ms/step - loss: 0.1786 - accuracy: 0.9500 - val_loss: 0.4093 - val_accuracy: 0.9556\n",
      "Epoch 65/80\n",
      "1/1 [==============================] - 0s 27ms/step - loss: 0.2176 - accuracy: 0.9500 - val_loss: 0.4006 - val_accuracy: 0.9556\n",
      "Epoch 66/80\n",
      "1/1 [==============================] - 0s 26ms/step - loss: 0.1907 - accuracy: 0.9667 - val_loss: 0.3916 - val_accuracy: 0.9556\n",
      "Epoch 67/80\n",
      "1/1 [==============================] - 0s 27ms/step - loss: 0.0819 - accuracy: 1.0000 - val_loss: 0.3836 - val_accuracy: 0.9556\n",
      "Epoch 68/80\n",
      "1/1 [==============================] - 0s 27ms/step - loss: 0.1471 - accuracy: 0.9750 - val_loss: 0.3784 - val_accuracy: 0.9556\n",
      "Epoch 69/80\n",
      "1/1 [==============================] - 0s 27ms/step - loss: 0.1232 - accuracy: 0.9833 - val_loss: 0.3708 - val_accuracy: 0.9556\n",
      "Epoch 70/80\n",
      "1/1 [==============================] - 0s 27ms/step - loss: 0.1280 - accuracy: 0.9750 - val_loss: 0.3657 - val_accuracy: 0.9556\n",
      "Epoch 71/80\n",
      "1/1 [==============================] - 0s 27ms/step - loss: 0.2478 - accuracy: 0.9250 - val_loss: 0.3651 - val_accuracy: 0.9556\n",
      "Epoch 72/80\n",
      "1/1 [==============================] - 0s 27ms/step - loss: 0.1318 - accuracy: 0.9750 - val_loss: 0.3643 - val_accuracy: 0.9556\n",
      "Epoch 73/80\n",
      "1/1 [==============================] - 0s 26ms/step - loss: 0.1216 - accuracy: 0.9750 - val_loss: 0.3627 - val_accuracy: 0.9667\n",
      "Epoch 74/80\n",
      "1/1 [==============================] - 0s 26ms/step - loss: 0.1516 - accuracy: 0.9667 - val_loss: 0.3625 - val_accuracy: 0.9667\n",
      "Epoch 75/80\n",
      "1/1 [==============================] - 0s 26ms/step - loss: 0.1085 - accuracy: 0.9750 - val_loss: 0.3620 - val_accuracy: 0.9667\n",
      "Epoch 76/80\n",
      "1/1 [==============================] - 0s 26ms/step - loss: 0.1624 - accuracy: 0.9333 - val_loss: 0.3596 - val_accuracy: 0.9667\n",
      "Epoch 77/80\n",
      "1/1 [==============================] - 0s 26ms/step - loss: 0.1549 - accuracy: 0.9750 - val_loss: 0.3574 - val_accuracy: 0.9667\n",
      "Epoch 78/80\n",
      "1/1 [==============================] - 0s 28ms/step - loss: 0.0850 - accuracy: 0.9833 - val_loss: 0.3560 - val_accuracy: 0.9667\n",
      "Epoch 79/80\n",
      "1/1 [==============================] - 0s 26ms/step - loss: 0.1047 - accuracy: 0.9667 - val_loss: 0.3605 - val_accuracy: 0.9667\n",
      "Epoch 80/80\n",
      "1/1 [==============================] - 0s 26ms/step - loss: 0.0887 - accuracy: 0.9917 - val_loss: 0.3646 - val_accuracy: 0.9667\n"
     ]
    }
   ],
   "source": [
    "# fitting the model with the train data and validation with the validation data\n",
    "# we used early stop with patience 100 because we did not want to use early stop\n",
    "# I leave the early stop regularization code in case anyone wants to use it\n",
    "\n",
    "history = model.fit(X_train, y_train, batch_size=128, epochs=80, \n",
    "                    validation_data=(X_val, y_val),\n",
    "                    callbacks=[early_stop])"
   ]
  },
  {
   "cell_type": "code",
   "execution_count": 57,
   "metadata": {},
   "outputs": [],
   "source": [
    "import matplotlib.pyplot as plt"
   ]
  },
  {
   "cell_type": "code",
   "execution_count": 58,
   "metadata": {},
   "outputs": [
    {
     "data": {
      "image/png": "[encoded data removed]",
      "text/plain": [
       "<Figure size 864x576 with 1 Axes>"
      ]
     },
     "metadata": {
      "needs_background": "light"
     },
     "output_type": "display_data"
    }
   ],
   "source": [
    "# Check out our train accuracy and validation accuracy over epochs.\n",
    "train_accuracy = history.history['accuracy']\n",
    "val_accuracy = history.history['val_accuracy']\n",
    "\n",
    "# Set figure size.\n",
    "plt.figure(figsize=(12, 8))\n",
    "\n",
    "# Generate line plot of training, testing loss over epochs.\n",
    "plt.plot(train_accuracy, label='Training Accuracy', color='#185fad')\n",
    "plt.plot(val_accuracy, label='Validation Accuracy', color='orange')\n",
    "\n",
    "# Set title\n",
    "plt.title('Training and Validation Accuracy', fontsize = 25)\n",
    "plt.xlabel('Epoch', fontsize = 18)\n",
    "plt.ylabel('Categorical Crossentropy', fontsize = 18)\n",
    "plt.xticks(range(0,100,5), range(0,100,5))\n",
    "\n",
    "plt.legend(fontsize = 18);"
   ]
  },
  {
   "cell_type": "code",
   "execution_count": 59,
   "metadata": {
    "scrolled": true
   },
   "outputs": [
    {
     "data": {
      "text/plain": [
       "array([[ 1.6439197 , -0.66705745,  0.40761623, ...,  0.1933992 ,\n",
       "         0.81188585, -0.37763207],\n",
       "       [ 0.82065423, -0.03634415,  0.38104615, ..., -0.25613655,\n",
       "        -1.05305501,  1.20166317],\n",
       "       [ 0.07160603, -0.34774393, -2.31216736, ..., -0.47809386,\n",
       "         0.12107893,  0.40776552],\n",
       "       ...,\n",
       "       [-0.02463963,  0.49004839, -0.31805982, ...,  0.15232666,\n",
       "        -0.53812612,  0.31016801],\n",
       "       [ 0.92009026, -0.64427064, -2.10168875, ..., -0.26789011,\n",
       "        -1.06455777, -0.97790866],\n",
       "       [-0.43689969, -0.24393842,  0.15378906, ...,  0.49426057,\n",
       "         0.22667016,  0.59251184]])"
      ]
     },
     "execution_count": 59,
     "metadata": {},
     "output_type": "execute_result"
    }
   ],
   "source": [
    "X_test"
   ]
  },
  {
   "cell_type": "code",
   "execution_count": 60,
   "metadata": {},
   "outputs": [
    {
     "name": "stdout",
     "output_type": "stream",
     "text": [
      "3/3 [==============================] - 0s 2ms/step\n"
     ]
    }
   ],
   "source": [
    "# We get our predictions from the test data\n",
    "predictions =  np.argmax(model.predict(X_test), axis=-1)"
   ]
  },
  {
   "cell_type": "code",
   "execution_count": 61,
   "metadata": {},
   "outputs": [],
   "source": [
    "# We transform back our predictions to the speakers ids\n",
    "predictions = lb.inverse_transform(predictions)"
   ]
  },
  {
   "cell_type": "code",
   "execution_count": 62,
   "metadata": {},
   "outputs": [],
   "source": [
    "test_df['predictions'] = predictions"
   ]
  },
  {
   "cell_type": "code",
   "execution_count": 63,
   "metadata": {},
   "outputs": [
    {
     "data": {
      "text/html": [
       "<div>\n",
       "<style scoped>\n",
       "    .dataframe tbody tr th:only-of-type {\n",
       "        vertical-align: middle;\n",
       "    }\n",
       "\n",
       "    .dataframe tbody tr th {\n",
       "        vertical-align: top;\n",
       "    }\n",
       "\n",
       "    .dataframe thead th {\n",
       "        text-align: right;\n",
       "    }\n",
       "</style>\n",
       "<table border=\"1\" class=\"dataframe\">\n",
       "  <thead>\n",
       "    <tr style=\"text-align: right;\">\n",
       "      <th></th>\n",
       "      <th>file</th>\n",
       "      <th>speaker</th>\n",
       "      <th>predictions</th>\n",
       "    </tr>\n",
       "  </thead>\n",
       "  <tbody>\n",
       "    <tr>\n",
       "      <th>0</th>\n",
       "      <td>7312-92432-0004.flac</td>\n",
       "      <td>7312</td>\n",
       "      <td>7312</td>\n",
       "    </tr>\n",
       "    <tr>\n",
       "      <th>1</th>\n",
       "      <td>8014-112586-0006.flac</td>\n",
       "      <td>8014</td>\n",
       "      <td>8014</td>\n",
       "    </tr>\n",
       "    <tr>\n",
       "      <th>2</th>\n",
       "      <td>8088-284756-0005.flac</td>\n",
       "      <td>8088</td>\n",
       "      <td>8088</td>\n",
       "    </tr>\n",
       "    <tr>\n",
       "      <th>3</th>\n",
       "      <td>8051-118101-0004.flac</td>\n",
       "      <td>8051</td>\n",
       "      <td>8051</td>\n",
       "    </tr>\n",
       "    <tr>\n",
       "      <th>4</th>\n",
       "      <td>7635-105409-0005.flac</td>\n",
       "      <td>7635</td>\n",
       "      <td>7635</td>\n",
       "    </tr>\n",
       "    <tr>\n",
       "      <th>...</th>\n",
       "      <td>...</td>\n",
       "      <td>...</td>\n",
       "      <td>...</td>\n",
       "    </tr>\n",
       "    <tr>\n",
       "      <th>85</th>\n",
       "      <td>8123-275193-0004.flac</td>\n",
       "      <td>8123</td>\n",
       "      <td>8123</td>\n",
       "    </tr>\n",
       "    <tr>\n",
       "      <th>86</th>\n",
       "      <td>7800-283478-0004.flac</td>\n",
       "      <td>7800</td>\n",
       "      <td>7800</td>\n",
       "    </tr>\n",
       "    <tr>\n",
       "      <th>87</th>\n",
       "      <td>8468-286673-0005.flac</td>\n",
       "      <td>8468</td>\n",
       "      <td>8468</td>\n",
       "    </tr>\n",
       "    <tr>\n",
       "      <th>88</th>\n",
       "      <td>8238-274553-0005.flac</td>\n",
       "      <td>8238</td>\n",
       "      <td>8238</td>\n",
       "    </tr>\n",
       "    <tr>\n",
       "      <th>89</th>\n",
       "      <td>8468-286673-0006.flac</td>\n",
       "      <td>8468</td>\n",
       "      <td>8468</td>\n",
       "    </tr>\n",
       "  </tbody>\n",
       "</table>\n",
       "<p>90 rows × 3 columns</p>\n",
       "</div>"
      ],
      "text/plain": [
       "                     file speaker predictions\n",
       "0    7312-92432-0004.flac    7312        7312\n",
       "1   8014-112586-0006.flac    8014        8014\n",
       "2   8088-284756-0005.flac    8088        8088\n",
       "3   8051-118101-0004.flac    8051        8051\n",
       "4   7635-105409-0005.flac    7635        7635\n",
       "..                    ...     ...         ...\n",
       "85  8123-275193-0004.flac    8123        8123\n",
       "86  7800-283478-0004.flac    7800        7800\n",
       "87  8468-286673-0005.flac    8468        8468\n",
       "88  8238-274553-0005.flac    8238        8238\n",
       "89  8468-286673-0006.flac    8468        8468\n",
       "\n",
       "[90 rows x 3 columns]"
      ]
     },
     "execution_count": 63,
     "metadata": {},
     "output_type": "execute_result"
    }
   ],
   "source": [
    "test_df"
   ]
  },
  {
   "cell_type": "code",
   "execution_count": 64,
   "metadata": {},
   "outputs": [],
   "source": [
    "def print_full(x):\n",
    "    pd.set_option('display.max_rows', len(x))\n",
    "    print(x)\n",
    "    pd.reset_option('display.max_rows')"
   ]
  },
  {
   "cell_type": "code",
   "execution_count": 65,
   "metadata": {},
   "outputs": [
    {
     "name": "stdout",
     "output_type": "stream",
     "text": [
      "                     file speaker predictions\n",
      "0    7312-92432-0004.flac    7312        7312\n",
      "1   8014-112586-0006.flac    8014        8014\n",
      "2   8088-284756-0005.flac    8088        8088\n",
      "3   8051-118101-0004.flac    8051        8051\n",
      "4   7635-105409-0005.flac    7635        7635\n",
      "5   8098-275181-0004.flac    8098        8098\n",
      "6   8098-275181-0005.flac    8098        8098\n",
      "7   8324-286681-0005.flac    8324        8324\n",
      "8   8312-279790-0004.flac    8312        8312\n",
      "9    7278-91083-0005.flac    7278        7278\n",
      "10   7505-83618-0005.flac    7505        7402\n",
      "11  8123-275193-0005.flac    8123        8123\n",
      "12  7517-100429-0005.flac    7517        7517\n",
      "13  8425-246962-0004.flac    8425        8425\n",
      "14  7794-295947-0006.flac    7794        7794\n",
      "15   7505-83618-0004.flac    7505        7505\n",
      "16  8088-284756-0006.flac    8088        8088\n",
      "17  8312-279790-0006.flac    8312        8312\n",
      "18  8465-246940-0005.flac    8465        8465\n",
      "19   7402-59171-0005.flac    7402        7402\n",
      "20   7505-83618-0006.flac    7505        7505\n",
      "21  8051-118101-0006.flac    8051        8051\n",
      "22  7859-102518-0006.flac    7859        7859\n",
      "23  8098-275181-0006.flac    8098        8098\n",
      "24   7367-86737-0005.flac    7367        8419\n",
      "25  8226-274369-0004.flac    8226        8226\n",
      "26  7511-102419-0005.flac    7511        7511\n",
      "27  8108-274318-0006.flac    8108        8108\n",
      "28  8095-274345-0006.flac    8095        8095\n",
      "29  7859-102518-0004.flac    7859        7859\n",
      "30  7780-274562-0006.flac    7780        7780\n",
      "31  8226-274369-0006.flac    8226        8226\n",
      "32   7402-59171-0004.flac    7402        7402\n",
      "33  8238-274553-0006.flac    8238        8238\n",
      "34  7780-274562-0004.flac    7780        7780\n",
      "35  8312-279790-0005.flac    8312        8312\n",
      "36   7402-59171-0006.flac    7402        7402\n",
      "37  8063-274112-0006.flac    8063        8063\n",
      "38  8088-284756-0004.flac    8088        8088\n",
      "39  8108-274318-0004.flac    8108        8108\n",
      "40  8014-112586-0005.flac    8014        8014\n",
      "41  7800-283478-0006.flac    7800        7800\n",
      "42  8095-274345-0005.flac    8095        8095\n",
      "43  8324-286681-0004.flac    8324        8324\n",
      "44  7511-102419-0006.flac    7511        7511\n",
      "45   7367-86737-0004.flac    7367        7367\n",
      "46  8014-112586-0004.flac    8014        8014\n",
      "47  8324-286681-0006.flac    8324        8324\n",
      "48  7517-100429-0006.flac    7517        7517\n",
      "49  8419-286667-0005.flac    8419        8419\n",
      "50   7302-86814-0005.flac    7302        7302\n",
      "51   7447-91186-0006.flac    7447        7447\n",
      "52  8425-246962-0006.flac    8425        8425\n",
      "53  8095-274345-0004.flac    8095        8095\n",
      "54  8063-274112-0005.flac    8063        8063\n",
      "55  7517-100429-0004.flac    7517        7517\n",
      "56  8063-274112-0004.flac    8063        8063\n",
      "57   7302-86814-0006.flac    7302        7302\n",
      "58  7794-295947-0004.flac    7794        7794\n",
      "59  8051-118101-0005.flac    8051        8051\n",
      "60  8226-274369-0005.flac    8226        8226\n",
      "61   7367-86737-0006.flac    7367        8419\n",
      "62  8108-274318-0005.flac    8108        8108\n",
      "63  8465-246940-0006.flac    8465        8465\n",
      "64   7447-91186-0004.flac    7447        7447\n",
      "65  8419-286667-0006.flac    8419        8419\n",
      "66  7800-283478-0005.flac    7800        7800\n",
      "67  8468-286673-0004.flac    8468        8468\n",
      "68   7302-86814-0004.flac    7302        7302\n",
      "69   7278-91083-0006.flac    7278        7278\n",
      "70   7278-91083-0007.flac    7278        7278\n",
      "71  7511-102419-0004.flac    7511        7511\n",
      "72  8123-275193-0006.flac    8123        8123\n",
      "73   7312-92432-0005.flac    7312        7312\n",
      "74  7635-105409-0004.flac    7635        7635\n",
      "75  7780-274562-0005.flac    7780        7780\n",
      "76  7859-102518-0005.flac    7859        7859\n",
      "77  8419-286667-0004.flac    8419        8419\n",
      "78   7447-91186-0005.flac    7447        7447\n",
      "79   7312-92432-0006.flac    7312        7312\n",
      "80  8465-246940-0004.flac    8465        8465\n",
      "81  8425-246962-0005.flac    8425        8425\n",
      "82  7794-295947-0005.flac    7794        7794\n",
      "83  7635-105409-0006.flac    7635        7635\n",
      "84  8238-274553-0004.flac    8238        8238\n",
      "85  8123-275193-0004.flac    8123        8123\n",
      "86  7800-283478-0004.flac    7800        7800\n",
      "87  8468-286673-0005.flac    8468        8468\n",
      "88  8238-274553-0005.flac    8238        8238\n",
      "89  8468-286673-0006.flac    8468        8468\n"
     ]
    }
   ],
   "source": [
    "print_full(test_df)"
   ]
  },
  {
   "cell_type": "code",
   "execution_count": 66,
   "metadata": {},
   "outputs": [
    {
     "data": {
      "text/html": [
       "<div>\n",
       "<style scoped>\n",
       "    .dataframe tbody tr th:only-of-type {\n",
       "        vertical-align: middle;\n",
       "    }\n",
       "\n",
       "    .dataframe tbody tr th {\n",
       "        vertical-align: top;\n",
       "    }\n",
       "\n",
       "    .dataframe thead th {\n",
       "        text-align: right;\n",
       "    }\n",
       "</style>\n",
       "<table border=\"1\" class=\"dataframe\">\n",
       "  <thead>\n",
       "    <tr style=\"text-align: right;\">\n",
       "      <th></th>\n",
       "      <th>file</th>\n",
       "      <th>speaker</th>\n",
       "      <th>predictions</th>\n",
       "    </tr>\n",
       "  </thead>\n",
       "  <tbody>\n",
       "    <tr>\n",
       "      <th>10</th>\n",
       "      <td>7505-83618-0005.flac</td>\n",
       "      <td>7505</td>\n",
       "      <td>7402</td>\n",
       "    </tr>\n",
       "    <tr>\n",
       "      <th>24</th>\n",
       "      <td>7367-86737-0005.flac</td>\n",
       "      <td>7367</td>\n",
       "      <td>8419</td>\n",
       "    </tr>\n",
       "    <tr>\n",
       "      <th>61</th>\n",
       "      <td>7367-86737-0006.flac</td>\n",
       "      <td>7367</td>\n",
       "      <td>8419</td>\n",
       "    </tr>\n",
       "  </tbody>\n",
       "</table>\n",
       "</div>"
      ],
      "text/plain": [
       "                    file speaker predictions\n",
       "10  7505-83618-0005.flac    7505        7402\n",
       "24  7367-86737-0005.flac    7367        8419\n",
       "61  7367-86737-0006.flac    7367        8419"
      ]
     },
     "execution_count": 66,
     "metadata": {},
     "output_type": "execute_result"
    }
   ],
   "source": [
    "test_df[test_df['speaker'] != test_df['predictions']]"
   ]
  },
  {
   "cell_type": "code",
   "execution_count": 67,
   "metadata": {},
   "outputs": [
    {
     "name": "stdout",
     "output_type": "stream",
     "text": [
      "96.7 %\n"
     ]
    }
   ],
   "source": [
    "\n",
    "print((1-round(len(test_df[test_df['speaker'] != test_df['predictions']])/len(test_df),3))*100,'%')"
   ]
  },
  {
   "cell_type": "code",
   "execution_count": 68,
   "metadata": {
    "scrolled": true
   },
   "outputs": [
    {
     "data": {
      "text/html": [
       "<div>\n",
       "<style scoped>\n",
       "    .dataframe tbody tr th:only-of-type {\n",
       "        vertical-align: middle;\n",
       "    }\n",
       "\n",
       "    .dataframe tbody tr th {\n",
       "        vertical-align: top;\n",
       "    }\n",
       "\n",
       "    .dataframe thead th {\n",
       "        text-align: right;\n",
       "    }\n",
       "</style>\n",
       "<table border=\"1\" class=\"dataframe\">\n",
       "  <thead>\n",
       "    <tr style=\"text-align: right;\">\n",
       "      <th></th>\n",
       "      <th>file</th>\n",
       "      <th>speaker</th>\n",
       "      <th>predictions</th>\n",
       "    </tr>\n",
       "  </thead>\n",
       "  <tbody>\n",
       "    <tr>\n",
       "      <th>0</th>\n",
       "      <td>7312-92432-0004.flac</td>\n",
       "      <td>7312</td>\n",
       "      <td>7312</td>\n",
       "    </tr>\n",
       "    <tr>\n",
       "      <th>1</th>\n",
       "      <td>8014-112586-0006.flac</td>\n",
       "      <td>8014</td>\n",
       "      <td>8014</td>\n",
       "    </tr>\n",
       "    <tr>\n",
       "      <th>2</th>\n",
       "      <td>8088-284756-0005.flac</td>\n",
       "      <td>8088</td>\n",
       "      <td>8088</td>\n",
       "    </tr>\n",
       "    <tr>\n",
       "      <th>3</th>\n",
       "      <td>8051-118101-0004.flac</td>\n",
       "      <td>8051</td>\n",
       "      <td>8051</td>\n",
       "    </tr>\n",
       "    <tr>\n",
       "      <th>4</th>\n",
       "      <td>7635-105409-0005.flac</td>\n",
       "      <td>7635</td>\n",
       "      <td>7635</td>\n",
       "    </tr>\n",
       "    <tr>\n",
       "      <th>...</th>\n",
       "      <td>...</td>\n",
       "      <td>...</td>\n",
       "      <td>...</td>\n",
       "    </tr>\n",
       "    <tr>\n",
       "      <th>85</th>\n",
       "      <td>8123-275193-0004.flac</td>\n",
       "      <td>8123</td>\n",
       "      <td>8123</td>\n",
       "    </tr>\n",
       "    <tr>\n",
       "      <th>86</th>\n",
       "      <td>7800-283478-0004.flac</td>\n",
       "      <td>7800</td>\n",
       "      <td>7800</td>\n",
       "    </tr>\n",
       "    <tr>\n",
       "      <th>87</th>\n",
       "      <td>8468-286673-0005.flac</td>\n",
       "      <td>8468</td>\n",
       "      <td>8468</td>\n",
       "    </tr>\n",
       "    <tr>\n",
       "      <th>88</th>\n",
       "      <td>8238-274553-0005.flac</td>\n",
       "      <td>8238</td>\n",
       "      <td>8238</td>\n",
       "    </tr>\n",
       "    <tr>\n",
       "      <th>89</th>\n",
       "      <td>8468-286673-0006.flac</td>\n",
       "      <td>8468</td>\n",
       "      <td>8468</td>\n",
       "    </tr>\n",
       "  </tbody>\n",
       "</table>\n",
       "<p>87 rows × 3 columns</p>\n",
       "</div>"
      ],
      "text/plain": [
       "                     file speaker predictions\n",
       "0    7312-92432-0004.flac    7312        7312\n",
       "1   8014-112586-0006.flac    8014        8014\n",
       "2   8088-284756-0005.flac    8088        8088\n",
       "3   8051-118101-0004.flac    8051        8051\n",
       "4   7635-105409-0005.flac    7635        7635\n",
       "..                    ...     ...         ...\n",
       "85  8123-275193-0004.flac    8123        8123\n",
       "86  7800-283478-0004.flac    7800        7800\n",
       "87  8468-286673-0005.flac    8468        8468\n",
       "88  8238-274553-0005.flac    8238        8238\n",
       "89  8468-286673-0006.flac    8468        8468\n",
       "\n",
       "[87 rows x 3 columns]"
      ]
     },
     "execution_count": 68,
     "metadata": {},
     "output_type": "execute_result"
    }
   ],
   "source": [
    "test_df[test_df['speaker'] == test_df['predictions']]"
   ]
  },
  {
   "cell_type": "code",
   "execution_count": null,
   "metadata": {},
   "outputs": [],
   "source": []
  }
 ],
 "metadata": {
  "kernelspec": {
   "display_name": "Python 3 (ipykernel)",
   "language": "python",
   "name": "python3"
  },
  "language_info": {
   "codemirror_mode": {
    "name": "ipython",
    "version": 3
   },
   "file_extension": ".py",
   "mimetype": "text/x-python",
   "name": "python",
   "nbconvert_exporter": "python",
   "pygments_lexer": "ipython3",
   "version": "3.9.7"
  }
 },
 "nbformat": 4,
 "nbformat_minor": 2
}
